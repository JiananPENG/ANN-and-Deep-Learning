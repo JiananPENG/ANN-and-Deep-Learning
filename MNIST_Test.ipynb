{
  "nbformat": 4,
  "nbformat_minor": 0,
  "metadata": {
    "colab": {
      "provenance": []
    },
    "kernelspec": {
      "name": "python3",
      "display_name": "Python 3"
    },
    "language_info": {
      "name": "python"
    }
  },
  "cells": [
    {
      "cell_type": "code",
      "source": [
        "from google.colab import drive\n",
        "drive.mount('/content/drive')"
      ],
      "metadata": {
        "colab": {
          "base_uri": "https://localhost:8080/"
        },
        "id": "nab29-FpQvJL",
        "outputId": "b1c4c2c0-1ad4-4755-a261-4276aa13c78c"
      },
      "execution_count": 3,
      "outputs": [
        {
          "output_type": "stream",
          "name": "stdout",
          "text": [
            "Mounted at /content/drive\n"
          ]
        }
      ]
    },
    {
      "cell_type": "code",
      "source": [
        "import numpy as np\n",
        "import matplotlib.pyplot as plt\n",
        "from keras.datasets import mnist\n",
        "from keras.models import Sequential\n",
        "from keras.layers import Dense\n",
        "from keras.layers import Dropout\n",
        "from keras.layers import Flatten\n",
        "from keras.layers.convolutional import Conv2D\n",
        "from keras.layers.convolutional import MaxPooling2D\n",
        "from keras.utils import np_utils\n",
        "from keras import backend as K"
      ],
      "metadata": {
        "id": "U-DcK39eQ7Ie"
      },
      "execution_count": 4,
      "outputs": []
    },
    {
      "cell_type": "code",
      "source": [
        "y_train = np.array([4, 0, 3, 2])\n",
        "print(y_train)\n",
        "print('y_train.shape:',y_train.shape)\n",
        "Y_train = np_utils.to_categorical(y_train)\n",
        "print(Y_train)\n",
        "Y_train.shape\n",
        "print('Y_train.shape:',Y_train.shape)"
      ],
      "metadata": {
        "colab": {
          "base_uri": "https://localhost:8080/"
        },
        "id": "CmcIT73QQ9pn",
        "outputId": "9fbced9d-653d-4a87-f30d-4fef80f9df05"
      },
      "execution_count": 5,
      "outputs": [
        {
          "output_type": "stream",
          "name": "stdout",
          "text": [
            "[4 0 3 2]\n",
            "y_train.shape: (4,)\n",
            "[[0. 0. 0. 0. 1.]\n",
            " [1. 0. 0. 0. 0.]\n",
            " [0. 0. 0. 1. 0.]\n",
            " [0. 0. 1. 0. 0.]]\n",
            "Y_train.shape: (4, 5)\n"
          ]
        }
      ]
    },
    {
      "cell_type": "code",
      "source": [
        "import keras\n",
        "from keras.datasets import mnist\n",
        "import cv2\n",
        "\n",
        "(x_train,y_train),(x_test,y_test)=mnist.load_data()\n",
        "xtrain=[]\n",
        "xtest=[]\n",
        "\n",
        "for n in range(0,60000):\n",
        "  xtrain1 = cv2.resize(x_train[n],(7,7))\n",
        "  xtrain.append(xtrain1)\n",
        "for n in range(0,10000):\n",
        "  xtest1 = cv2.resize(x_test[n],(7,7))\n",
        "  xtest.append(xtest1)\n",
        "\n",
        "xtrain = np.array(xtrain)\n",
        "xtest = np.array(xtest)\n",
        "# resize from 28*28 to 7*7\n",
        "\n",
        "print('xtrain.shape:',xtrain.shape)\n",
        "print('y_train.shape:',y_train.shape)\n",
        "print('xtest.shape:',y_train.shape)\n",
        "print('y_test.shape:',y_train.shape)\n",
        "\n",
        "\n",
        "aa=xtrain[0]\n",
        "print('shape of xtrain[0]:',aa.shape)\n",
        "\n",
        "print('xtrain[0]:')\n",
        "print(xtrain[0]) \n",
        "print('y_train[0:4]:') \n",
        "y_train[0:4]\n"
      ],
      "metadata": {
        "colab": {
          "base_uri": "https://localhost:8080/"
        },
        "id": "HS-PQPdlRCfv",
        "outputId": "9429ab42-6a00-4984-e40d-a2b86fdfb7de"
      },
      "execution_count": 24,
      "outputs": [
        {
          "output_type": "stream",
          "name": "stdout",
          "text": [
            "xtrain.shape: (60000, 7, 7)\n",
            "y_train.shape: (60000,)\n",
            "xtest.shape: (60000,)\n",
            "y_test.shape: (60000,)\n",
            "shape of xtrain[0]: (7, 7)\n",
            "xtrain[0]:\n",
            "[[  0   0   0   0   0   0   0]\n",
            " [  0   0  33 136 197 235   0]\n",
            " [  0   0  70  77  39   0   0]\n",
            " [  0   0   0 197  36   0   0]\n",
            " [  0   0   0  12 252   0   0]\n",
            " [  0   5 196 195   1   0   0]\n",
            " [  0   0   0   0   0   0   0]]\n",
            "y_train[0:4]:\n"
          ]
        },
        {
          "output_type": "execute_result",
          "data": {
            "text/plain": [
              "array([5, 0, 4, 1], dtype=uint8)"
            ]
          },
          "metadata": {},
          "execution_count": 24
        }
      ]
    },
    {
      "cell_type": "code",
      "source": [
        "plt.subplot(221)\n",
        "plt.imshow(xtrain[0], cmap=plt.get_cmap('gray'))\n",
        "plt.subplot(222)\n",
        "plt.imshow(xtrain[1], cmap=plt.get_cmap('gray'))\n",
        "plt.subplot(223)\n",
        "plt.imshow(xtrain[2], cmap=plt.get_cmap('gray'))\n",
        "plt.subplot(224)\n",
        "plt.imshow(xtrain[3], cmap=plt.get_cmap('gray'))\n",
        "# show the plot\n",
        "plt.show()"
      ],
      "metadata": {
        "colab": {
          "base_uri": "https://localhost:8080/",
          "height": 265
        },
        "id": "QyEo-1MhZPsV",
        "outputId": "5645d0cd-cebf-4fca-896f-e78dbe4d67d9"
      },
      "execution_count": 25,
      "outputs": [
        {
          "output_type": "display_data",
          "data": {
            "text/plain": [
              "<Figure size 432x288 with 4 Axes>"
            ],
            "image/png": "[encoded data removed]"
          },
          "metadata": {
            "needs_background": "light"
          }
        }
      ]
    },
    {
      "cell_type": "code",
      "source": [
        "xtrain = xtrain.astype('float32')\n",
        "xtest = xtest.astype('float32')\n",
        "xtrain/= 255\n",
        "xtest/= 255\n",
        "print('xtrain shape:', xtrain.shape)\n",
        "print(xtrain.shape[0], 'train samples') \n",
        "print(xtest.shape[0], 'test samples') \n",
        "print('xtrain[0]:')\n",
        "print(xtrain[0])\n",
        "\n",
        "plt.subplot(221)\n",
        "plt.imshow(xtrain[0], cmap=plt.get_cmap('gray'))\n",
        "plt.subplot(222)\n",
        "plt.imshow(xtrain[1], cmap=plt.get_cmap('gray'))\n",
        "plt.subplot(223)\n",
        "plt.imshow(xtrain[2], cmap=plt.get_cmap('gray'))\n",
        "plt.subplot(224)\n",
        "plt.imshow(xtrain[3], cmap=plt.get_cmap('gray'))\n",
        "\n",
        "plt.show()\n"
      ],
      "metadata": {
        "colab": {
          "base_uri": "https://localhost:8080/",
          "height": 571
        },
        "id": "Y1jPag_uZX5-",
        "outputId": "ba5a05f3-9796-40cc-ca8b-a2c0b2a709d9"
      },
      "execution_count": 26,
      "outputs": [
        {
          "output_type": "stream",
          "name": "stdout",
          "text": [
            "xtrain shape: (60000, 7, 7)\n",
            "60000 train samples\n",
            "10000 test samples\n",
            "xtrain[0]:\n",
            "[[0.         0.         0.         0.         0.         0.\n",
            "  0.        ]\n",
            " [0.         0.         0.12941177 0.53333336 0.77254903 0.92156863\n",
            "  0.        ]\n",
            " [0.         0.         0.27450982 0.3019608  0.15294118 0.\n",
            "  0.        ]\n",
            " [0.         0.         0.         0.77254903 0.14117648 0.\n",
            "  0.        ]\n",
            " [0.         0.         0.         0.04705882 0.9882353  0.\n",
            "  0.        ]\n",
            " [0.         0.01960784 0.76862746 0.7647059  0.00392157 0.\n",
            "  0.        ]\n",
            " [0.         0.         0.         0.         0.         0.\n",
            "  0.        ]]\n"
          ]
        },
        {
          "output_type": "display_data",
          "data": {
            "text/plain": [
              "<Figure size 432x288 with 4 Axes>"
            ],
            "image/png": "[encoded data removed]"
          },
          "metadata": {
            "needs_background": "light"
          }
        }
      ]
    },
    {
      "cell_type": "code",
      "source": [
        "seed = 7\n",
        "np.random.seed(seed)\n",
        "\n",
        "X_train = xtrain.reshape(xtrain.shape[0], 1, 7, 7).astype('float32')\n",
        "X_test = xtest.reshape(xtest.shape[0], 1, 7, 7).astype('float32')\n",
        "print('X_train.shape:',X_train.shape)\n",
        "print('X_test.shape:',X_test.shape)\n",
        "print('original label')\n",
        "print(y_train)\n",
        "print('y_train.shape:',y_train.shape)\n",
        "\n",
        "Y_train = np_utils.to_categorical(y_train)\n",
        "print('new label')\n",
        "print(Y_train)\n",
        "Y_train.shape\n",
        "print('Y_train.shape:',Y_train.shape)\n",
        "\n",
        "Y_test = np_utils.to_categorical(y_test)\n",
        "num_classes = Y_test.shape[1]\n"
      ],
      "metadata": {
        "colab": {
          "base_uri": "https://localhost:8080/"
        },
        "id": "ls3Q4IQk2mO3",
        "outputId": "3c471418-ccb5-43e1-dd60-df849c6776c3"
      },
      "execution_count": 27,
      "outputs": [
        {
          "output_type": "stream",
          "name": "stdout",
          "text": [
            "X_train.shape: (60000, 1, 7, 7)\n",
            "X_test.shape: (10000, 1, 7, 7)\n",
            "original label\n",
            "[5 0 4 ... 5 6 8]\n",
            "y_train.shape: (60000,)\n",
            "new label\n",
            "[[0. 0. 0. ... 0. 0. 0.]\n",
            " [1. 0. 0. ... 0. 0. 0.]\n",
            " [0. 0. 0. ... 0. 0. 0.]\n",
            " ...\n",
            " [0. 0. 0. ... 0. 0. 0.]\n",
            " [0. 0. 0. ... 0. 0. 0.]\n",
            " [0. 0. 0. ... 0. 1. 0.]]\n",
            "Y_train.shape: (60000, 10)\n"
          ]
        }
      ]
    },
    {
      "cell_type": "code",
      "source": [
        "from keras.datasets import mnist\n",
        "import cv2\n",
        "\n",
        "(x_train,y_train),(x_test,y_test)=mnist.load_data()\n",
        "X_train=[]\n",
        "X_test=[]\n",
        "\n",
        "for n in range(0,60000):\n",
        "  xtrain1 = cv2.resize(x_train[n],(7,7))\n",
        "  X_train.append(xtrain1)\n",
        "for n in range(0,10000):\n",
        "  xtest1 = cv2.resize(x_test[n],(7,7))\n",
        "  X_test.append(xtest1)\n",
        "\n",
        "X_train = np.array(X_train)\n",
        "X_test = np.array(X_test)\n",
        "# resize the image from 28*28 to 7*7\n",
        "\n",
        "seed = 7\n",
        "np.random.seed(seed)\n",
        "\n",
        "print('X_train.shape before reshape' , X_train.shape)\n",
        "num_pixels = X_train.shape[1] * X_train.shape[2]\n",
        "\n",
        "X_train = X_train.reshape(X_train.shape[0], num_pixels).astype('float32')\n",
        "X_test = X_test.reshape(X_test.shape[0], num_pixels).astype('float32')\n",
        "\n",
        "print('X_train.shape after reshape' , X_train.shape)\n",
        "\n",
        "X_train = X_train / 255\n",
        "X_test = X_test / 255\n",
        "\n",
        "y_train = np_utils.to_categorical(y_train)\n",
        "y_test = np_utils.to_categorical(y_test)\n",
        "num_classes = y_test.shape[1]\n",
        "num_hidden_nodes1 = 550  \n",
        "num_hidden_nodes2 = 600\n",
        "\n",
        "\n",
        "def baseline_model():\n",
        "    \n",
        "    model = Sequential()\n",
        "    model.add(Dense(num_hidden_nodes1, input_dim=num_pixels, kernel_initializer='normal', activation='relu'))\n",
        "    model.add(Dense(num_hidden_nodes2, input_dim=num_hidden_nodes1, kernel_initializer='normal', activation='relu'))\n",
        "    model.add(Dense(num_classes, kernel_initializer='normal', activation='softmax')) \n",
        "    model.compile(loss='categorical_crossentropy', optimizer='adam', metrics=['accuracy'])\n",
        "    \n",
        "    return model\n",
        "\n",
        "model = baseline_model()\n",
        "\n",
        "history = model.fit(X_train, y_train, validation_data=(X_test, y_test), epochs=25, batch_size=200, verbose=2)\n",
        "\n",
        "scores = model.evaluate(X_test, y_test, verbose=0)\n",
        "print(\"Baseline Error: %.2f%%\" % (100-scores[1]*100))\n",
        "\n",
        "metrics = history.history\n",
        "plt.plot(history.epoch, metrics['accuracy'], metrics['val_accuracy'])\n",
        "plt.legend(['accuracy', 'val_accuracy'])\n",
        "plt.show()\n",
        "\n",
        "plt.plot(history.epoch, metrics['loss'], metrics['val_loss'])\n",
        "plt.legend(['loss', 'val_loss'])\n",
        "plt.show()"
      ],
      "metadata": {
        "colab": {
          "base_uri": "https://localhost:8080/",
          "height": 1000
        },
        "id": "k0mTH3sN3Ij4",
        "outputId": "54f59994-d410-4732-bd17-61714c52e7fd"
      },
      "execution_count": 33,
      "outputs": [
        {
          "output_type": "stream",
          "name": "stdout",
          "text": [
            "X_train.shape before reshape (60000, 7, 7)\n",
            "X_train.shape after reshape (60000, 49)\n",
            "Epoch 1/25\n",
            "300/300 - 4s - loss: 0.5829 - accuracy: 0.8235 - val_loss: 0.3519 - val_accuracy: 0.8922 - 4s/epoch - 14ms/step\n",
            "Epoch 2/25\n",
            "300/300 - 4s - loss: 0.3266 - accuracy: 0.8942 - val_loss: 0.2757 - val_accuracy: 0.9117 - 4s/epoch - 12ms/step\n",
            "Epoch 3/25\n",
            "300/300 - 4s - loss: 0.2695 - accuracy: 0.9125 - val_loss: 0.2502 - val_accuracy: 0.9202 - 4s/epoch - 12ms/step\n",
            "Epoch 4/25\n",
            "300/300 - 4s - loss: 0.2374 - accuracy: 0.9227 - val_loss: 0.2292 - val_accuracy: 0.9246 - 4s/epoch - 12ms/step\n",
            "Epoch 5/25\n",
            "300/300 - 4s - loss: 0.2177 - accuracy: 0.9279 - val_loss: 0.2155 - val_accuracy: 0.9298 - 4s/epoch - 12ms/step\n",
            "Epoch 6/25\n",
            "300/300 - 4s - loss: 0.2012 - accuracy: 0.9343 - val_loss: 0.2141 - val_accuracy: 0.9298 - 4s/epoch - 12ms/step\n",
            "Epoch 7/25\n",
            "300/300 - 4s - loss: 0.1883 - accuracy: 0.9376 - val_loss: 0.2011 - val_accuracy: 0.9341 - 4s/epoch - 12ms/step\n",
            "Epoch 8/25\n",
            "300/300 - 4s - loss: 0.1758 - accuracy: 0.9410 - val_loss: 0.1979 - val_accuracy: 0.9352 - 4s/epoch - 12ms/step\n",
            "Epoch 9/25\n",
            "300/300 - 4s - loss: 0.1663 - accuracy: 0.9435 - val_loss: 0.1915 - val_accuracy: 0.9380 - 4s/epoch - 12ms/step\n",
            "Epoch 10/25\n",
            "300/300 - 4s - loss: 0.1577 - accuracy: 0.9471 - val_loss: 0.1974 - val_accuracy: 0.9367 - 4s/epoch - 12ms/step\n",
            "Epoch 11/25\n",
            "300/300 - 4s - loss: 0.1520 - accuracy: 0.9491 - val_loss: 0.1987 - val_accuracy: 0.9360 - 4s/epoch - 12ms/step\n",
            "Epoch 12/25\n",
            "300/300 - 4s - loss: 0.1417 - accuracy: 0.9517 - val_loss: 0.1897 - val_accuracy: 0.9390 - 4s/epoch - 12ms/step\n",
            "Epoch 13/25\n",
            "300/300 - 4s - loss: 0.1353 - accuracy: 0.9541 - val_loss: 0.1915 - val_accuracy: 0.9401 - 4s/epoch - 12ms/step\n",
            "Epoch 14/25\n",
            "300/300 - 4s - loss: 0.1285 - accuracy: 0.9562 - val_loss: 0.2025 - val_accuracy: 0.9360 - 4s/epoch - 12ms/step\n",
            "Epoch 15/25\n",
            "300/300 - 4s - loss: 0.1228 - accuracy: 0.9589 - val_loss: 0.1863 - val_accuracy: 0.9429 - 4s/epoch - 12ms/step\n",
            "Epoch 16/25\n",
            "300/300 - 4s - loss: 0.1174 - accuracy: 0.9602 - val_loss: 0.1929 - val_accuracy: 0.9386 - 4s/epoch - 12ms/step\n",
            "Epoch 17/25\n",
            "300/300 - 4s - loss: 0.1105 - accuracy: 0.9620 - val_loss: 0.1958 - val_accuracy: 0.9391 - 4s/epoch - 12ms/step\n",
            "Epoch 18/25\n",
            "300/300 - 4s - loss: 0.1059 - accuracy: 0.9638 - val_loss: 0.1973 - val_accuracy: 0.9406 - 4s/epoch - 12ms/step\n",
            "Epoch 19/25\n",
            "300/300 - 4s - loss: 0.0987 - accuracy: 0.9664 - val_loss: 0.1924 - val_accuracy: 0.9411 - 4s/epoch - 12ms/step\n",
            "Epoch 20/25\n",
            "300/300 - 4s - loss: 0.0946 - accuracy: 0.9672 - val_loss: 0.1955 - val_accuracy: 0.9394 - 4s/epoch - 12ms/step\n",
            "Epoch 21/25\n",
            "300/300 - 5s - loss: 0.0884 - accuracy: 0.9695 - val_loss: 0.1974 - val_accuracy: 0.9419 - 5s/epoch - 17ms/step\n",
            "Epoch 22/25\n",
            "300/300 - 4s - loss: 0.0837 - accuracy: 0.9714 - val_loss: 0.2040 - val_accuracy: 0.9392 - 4s/epoch - 13ms/step\n",
            "Epoch 23/25\n",
            "300/300 - 4s - loss: 0.0809 - accuracy: 0.9724 - val_loss: 0.2209 - val_accuracy: 0.9342 - 4s/epoch - 12ms/step\n",
            "Epoch 24/25\n",
            "300/300 - 4s - loss: 0.0751 - accuracy: 0.9743 - val_loss: 0.2097 - val_accuracy: 0.9395 - 4s/epoch - 12ms/step\n",
            "Epoch 25/25\n",
            "300/300 - 4s - loss: 0.0701 - accuracy: 0.9759 - val_loss: 0.2078 - val_accuracy: 0.9425 - 4s/epoch - 12ms/step\n",
            "Baseline Error: 5.75%\n"
          ]
        },
        {
          "output_type": "display_data",
          "data": {
            "text/plain": [
              "<Figure size 432x288 with 1 Axes>"
            ],
            "image/png": "[encoded data removed]"
          },
          "metadata": {
            "needs_background": "light"
          }
        },
        {
          "output_type": "display_data",
          "data": {
            "text/plain": [
              "<Figure size 432x288 with 1 Axes>"
            ],
            "image/png": "[encoded data removed]"
          },
          "metadata": {
            "needs_background": "light"
          }
        }
      ]
    }
  ]
}