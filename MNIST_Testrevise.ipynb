{
  "nbformat": 4,
  "nbformat_minor": 0,
  "metadata": {
    "colab": {
      "provenance": []
    },
    "kernelspec": {
      "name": "python3",
      "display_name": "Python 3"
    },
    "language_info": {
      "name": "python"
    }
  },
  "cells": [
    {
      "cell_type": "code",
      "source": [
        "from google.colab import drive\n",
        "drive.mount('/content/drive')"
      ],
      "metadata": {
        "colab": {
          "base_uri": "https://localhost:8080/"
        },
        "id": "nab29-FpQvJL",
        "outputId": "49f8ebb4-0a62-4f6d-98e9-f21efbfa1a28"
      },
      "execution_count": 1,
      "outputs": [
        {
          "output_type": "stream",
          "name": "stdout",
          "text": [
            "Mounted at /content/drive\n"
          ]
        }
      ]
    },
    {
      "cell_type": "code",
      "source": [
        "import numpy as np\n",
        "import matplotlib.pyplot as plt\n",
        "from keras.datasets import mnist\n",
        "from keras.models import Sequential\n",
        "from keras.layers import Dense\n",
        "from keras.layers import Dropout\n",
        "from keras.layers import Flatten\n",
        "from keras.layers.convolutional import Conv2D\n",
        "from keras.layers.convolutional import MaxPooling2D\n",
        "from keras.utils import np_utils\n",
        "from keras import backend as K"
      ],
      "metadata": {
        "id": "U-DcK39eQ7Ie"
      },
      "execution_count": 2,
      "outputs": []
    },
    {
      "cell_type": "code",
      "source": [
        "y_train = np.array([4, 0, 3, 2])\n",
        "print(y_train)\n",
        "print('y_train.shape:',y_train.shape)\n",
        "Y_train = np_utils.to_categorical(y_train)\n",
        "print(Y_train)\n",
        "Y_train.shape\n",
        "print('Y_train.shape:',Y_train.shape)"
      ],
      "metadata": {
        "colab": {
          "base_uri": "https://localhost:8080/"
        },
        "id": "CmcIT73QQ9pn",
        "outputId": "46b0e83f-a25e-4094-e56c-33b634ec79a3"
      },
      "execution_count": 3,
      "outputs": [
        {
          "output_type": "stream",
          "name": "stdout",
          "text": [
            "[4 0 3 2]\n",
            "y_train.shape: (4,)\n",
            "[[0. 0. 0. 0. 1.]\n",
            " [1. 0. 0. 0. 0.]\n",
            " [0. 0. 0. 1. 0.]\n",
            " [0. 0. 1. 0. 0.]]\n",
            "Y_train.shape: (4, 5)\n"
          ]
        }
      ]
    },
    {
      "cell_type": "code",
      "source": [
        "import keras\n",
        "from keras.datasets import mnist\n",
        "import cv2\n",
        "\n",
        "(x_train,y_train),(x_test,y_test)=mnist.load_data()\n",
        "xtrain=[]\n",
        "xtest=[]\n",
        "\n",
        "for n in range(0,60000):\n",
        "  xtrain1 = cv2.resize(x_train[n],(7,7))\n",
        "  xtrain.append(xtrain1)\n",
        "for n in range(0,10000):\n",
        "  xtest1 = cv2.resize(x_test[n],(7,7))\n",
        "  xtest.append(xtest1)\n",
        "\n",
        "xtrain = np.array(xtrain)\n",
        "xtest = np.array(xtest)\n",
        "# resize from 28*28 to 7*7\n",
        "\n",
        "print('xtrain.shape:',xtrain.shape)\n",
        "print('y_train.shape:',y_train.shape)\n",
        "print('xtest.shape:',y_train.shape)\n",
        "print('y_test.shape:',y_train.shape)\n",
        "\n",
        "\n",
        "aa=xtrain[0]\n",
        "print('shape of xtrain[0]:',aa.shape)\n",
        "\n",
        "print('xtrain[0]:')\n",
        "print(xtrain[0]) \n",
        "print('y_train[0:4]:') \n",
        "y_train[0:4]\n"
      ],
      "metadata": {
        "colab": {
          "base_uri": "https://localhost:8080/"
        },
        "id": "HS-PQPdlRCfv",
        "outputId": "4898c4b9-b577-43bb-b957-0784f58b0bb3"
      },
      "execution_count": 4,
      "outputs": [
        {
          "output_type": "stream",
          "name": "stdout",
          "text": [
            "Downloading data from https://storage.googleapis.com/tensorflow/tf-keras-datasets/mnist.npz\n",
            "11490434/11490434 [==============================] - 0s 0us/step\n",
            "xtrain.shape: (60000, 7, 7)\n",
            "y_train.shape: (60000,)\n",
            "xtest.shape: (60000,)\n",
            "y_test.shape: (60000,)\n",
            "shape of xtrain[0]: (7, 7)\n",
            "xtrain[0]:\n",
            "[[  0   0   0   0   0   0   0]\n",
            " [  0   0  33 136 197 235   0]\n",
            " [  0   0  70  77  39   0   0]\n",
            " [  0   0   0 197  36   0   0]\n",
            " [  0   0   0  12 252   0   0]\n",
            " [  0   5 196 195   1   0   0]\n",
            " [  0   0   0   0   0   0   0]]\n",
            "y_train[0:4]:\n"
          ]
        },
        {
          "output_type": "execute_result",
          "data": {
            "text/plain": [
              "array([5, 0, 4, 1], dtype=uint8)"
            ]
          },
          "metadata": {},
          "execution_count": 4
        }
      ]
    },
    {
      "cell_type": "code",
      "source": [
        "plt.subplot(221)\n",
        "plt.imshow(xtrain[0], cmap=plt.get_cmap('gray'))\n",
        "plt.subplot(222)\n",
        "plt.imshow(xtrain[1], cmap=plt.get_cmap('gray'))\n",
        "plt.subplot(223)\n",
        "plt.imshow(xtrain[2], cmap=plt.get_cmap('gray'))\n",
        "plt.subplot(224)\n",
        "plt.imshow(xtrain[3], cmap=plt.get_cmap('gray'))\n",
        "# show the plot\n",
        "plt.show()"
      ],
      "metadata": {
        "colab": {
          "base_uri": "https://localhost:8080/",
          "height": 265
        },
        "id": "QyEo-1MhZPsV",
        "outputId": "95caafd5-6323-4ca7-fa41-36998bc8e0fc"
      },
      "execution_count": 5,
      "outputs": [
        {
          "output_type": "display_data",
          "data": {
            "text/plain": [
              "<Figure size 432x288 with 4 Axes>"
            ],
            "image/png": "[encoded data removed]"
          },
          "metadata": {
            "needs_background": "light"
          }
        }
      ]
    },
    {
      "cell_type": "code",
      "source": [
        "xtrain = xtrain.astype('float32')\n",
        "xtest = xtest.astype('float32')\n",
        "xtrain/= 255\n",
        "xtest/= 255\n",
        "print('xtrain shape:', xtrain.shape)\n",
        "print(xtrain.shape[0], 'train samples') \n",
        "print(xtest.shape[0], 'test samples') \n",
        "print('xtrain[0]:')\n",
        "print(xtrain[0])\n",
        "\n",
        "plt.subplot(221)\n",
        "plt.imshow(xtrain[0], cmap=plt.get_cmap('gray'))\n",
        "plt.subplot(222)\n",
        "plt.imshow(xtrain[1], cmap=plt.get_cmap('gray'))\n",
        "plt.subplot(223)\n",
        "plt.imshow(xtrain[2], cmap=plt.get_cmap('gray'))\n",
        "plt.subplot(224)\n",
        "plt.imshow(xtrain[3], cmap=plt.get_cmap('gray'))\n",
        "\n",
        "plt.show()\n"
      ],
      "metadata": {
        "colab": {
          "base_uri": "https://localhost:8080/",
          "height": 571
        },
        "id": "Y1jPag_uZX5-",
        "outputId": "12d64aed-a7f0-4e78-a598-ca3a70c856d4"
      },
      "execution_count": 6,
      "outputs": [
        {
          "output_type": "stream",
          "name": "stdout",
          "text": [
            "xtrain shape: (60000, 7, 7)\n",
            "60000 train samples\n",
            "10000 test samples\n",
            "xtrain[0]:\n",
            "[[0.         0.         0.         0.         0.         0.\n",
            "  0.        ]\n",
            " [0.         0.         0.12941177 0.53333336 0.77254903 0.92156863\n",
            "  0.        ]\n",
            " [0.         0.         0.27450982 0.3019608  0.15294118 0.\n",
            "  0.        ]\n",
            " [0.         0.         0.         0.77254903 0.14117648 0.\n",
            "  0.        ]\n",
            " [0.         0.         0.         0.04705882 0.9882353  0.\n",
            "  0.        ]\n",
            " [0.         0.01960784 0.76862746 0.7647059  0.00392157 0.\n",
            "  0.        ]\n",
            " [0.         0.         0.         0.         0.         0.\n",
            "  0.        ]]\n"
          ]
        },
        {
          "output_type": "display_data",
          "data": {
            "text/plain": [
              "<Figure size 432x288 with 4 Axes>"
            ],
            "image/png": "[encoded data removed]"
          },
          "metadata": {
            "needs_background": "light"
          }
        }
      ]
    },
    {
      "cell_type": "code",
      "source": [
        "seed = 7\n",
        "np.random.seed(seed)\n",
        "\n",
        "X_train = xtrain.reshape(xtrain.shape[0], 1, 7, 7).astype('float32')\n",
        "X_test = xtest.reshape(xtest.shape[0], 1, 7, 7).astype('float32')\n",
        "print('X_train.shape:',X_train.shape)\n",
        "print('X_test.shape:',X_test.shape)\n",
        "print('original label')\n",
        "print(y_train)\n",
        "print('y_train.shape:',y_train.shape)\n",
        "\n",
        "Y_train = np_utils.to_categorical(y_train)\n",
        "print('new label')\n",
        "print(Y_train)\n",
        "Y_train.shape\n",
        "print('Y_train.shape:',Y_train.shape)\n",
        "\n",
        "Y_test = np_utils.to_categorical(y_test)\n",
        "num_classes = Y_test.shape[1]\n"
      ],
      "metadata": {
        "colab": {
          "base_uri": "https://localhost:8080/"
        },
        "id": "ls3Q4IQk2mO3",
        "outputId": "8eee01e7-f8c2-4a2b-8d84-1b7a538a75a2"
      },
      "execution_count": 7,
      "outputs": [
        {
          "output_type": "stream",
          "name": "stdout",
          "text": [
            "X_train.shape: (60000, 1, 7, 7)\n",
            "X_test.shape: (10000, 1, 7, 7)\n",
            "original label\n",
            "[5 0 4 ... 5 6 8]\n",
            "y_train.shape: (60000,)\n",
            "new label\n",
            "[[0. 0. 0. ... 0. 0. 0.]\n",
            " [1. 0. 0. ... 0. 0. 0.]\n",
            " [0. 0. 0. ... 0. 0. 0.]\n",
            " ...\n",
            " [0. 0. 0. ... 0. 0. 0.]\n",
            " [0. 0. 0. ... 0. 0. 0.]\n",
            " [0. 0. 0. ... 0. 1. 0.]]\n",
            "Y_train.shape: (60000, 10)\n"
          ]
        }
      ]
    },
    {
      "cell_type": "code",
      "source": [
        "from keras.datasets import mnist\n",
        "import cv2\n",
        "\n",
        "(x_train,y_train),(x_test,y_test)=mnist.load_data()\n",
        "X_train=[]\n",
        "X_test=[]\n",
        "\n",
        "for n in range(0,60000):\n",
        "  xtrain1 = cv2.resize(x_train[n],(7,7))\n",
        "  X_train.append(xtrain1)\n",
        "for n in range(0,10000):\n",
        "  xtest1 = cv2.resize(x_test[n],(7,7))\n",
        "  X_test.append(xtest1)\n",
        "\n",
        "X_train = np.array(X_train)\n",
        "X_test = np.array(X_test)\n",
        "# resize the image from 28*28 to 7*7\n",
        "\n",
        "seed = 7\n",
        "np.random.seed(seed)\n",
        "\n",
        "print('X_train.shape before reshape' , X_train.shape)\n",
        "num_pixels = X_train.shape[1] * X_train.shape[2]\n",
        "\n",
        "X_train = X_train.reshape(X_train.shape[0], num_pixels).astype('float32')\n",
        "X_test = X_test.reshape(X_test.shape[0], num_pixels).astype('float32')\n",
        "\n",
        "print('X_train.shape after reshape' , X_train.shape)\n",
        "\n",
        "X_train = X_train / 255\n",
        "X_test = X_test / 255\n",
        "\n",
        "y_train = np_utils.to_categorical(y_train)\n",
        "y_test = np_utils.to_categorical(y_test)\n",
        "num_classes = y_test.shape[1]\n",
        "num_hidden_nodes1 = 550  \n",
        "num_hidden_nodes2 = 600\n",
        "\n",
        "\n",
        "def baseline_model():\n",
        "    \n",
        "    model = Sequential()\n",
        "    model.add(Dense(num_hidden_nodes1, input_dim=num_pixels, kernel_initializer='normal', activation='relu'))\n",
        "    model.add(Dense(num_hidden_nodes2, kernel_initializer='normal', activation='relu'))\n",
        "    model.add(Dense(num_classes, kernel_initializer='normal', activation='softmax')) \n",
        "    model.compile(loss='categorical_crossentropy', optimizer='adam', metrics=['accuracy'])\n",
        "    return model\n",
        "\n",
        "model = baseline_model()\n",
        "\n",
        "history = model.fit(X_train, y_train, validation_data=(X_test, y_test), epochs=25, batch_size=200, verbose=2)\n",
        "\n",
        "scores = model.evaluate(X_test, y_test, verbose=0)\n",
        "print(\"Baseline Error: %.2f%%\" % (100-scores[1]*100))\n",
        "\n",
        "metrics = history.history\n",
        "plt.plot(history.epoch, metrics['accuracy'], metrics['val_accuracy'])\n",
        "plt.legend(['accuracy', 'val_accuracy'])\n",
        "plt.show()\n",
        "\n",
        "plt.plot(history.epoch, metrics['loss'], metrics['val_loss'])\n",
        "plt.legend(['loss', 'val_loss'])\n",
        "plt.show()"
      ],
      "metadata": {
        "colab": {
          "base_uri": "https://localhost:8080/",
          "height": 1000
        },
        "id": "k0mTH3sN3Ij4",
        "outputId": "d9b3012b-c2f6-41fa-aff3-707343fd463f"
      },
      "execution_count": 10,
      "outputs": [
        {
          "output_type": "stream",
          "name": "stdout",
          "text": [
            "X_train.shape before reshape (60000, 7, 7)\n",
            "X_train.shape after reshape (60000, 49)\n",
            "Epoch 1/25\n",
            "300/300 - 5s - loss: 0.5880 - accuracy: 0.8197 - val_loss: 0.3656 - val_accuracy: 0.8825 - 5s/epoch - 15ms/step\n",
            "Epoch 2/25\n",
            "300/300 - 4s - loss: 0.3287 - accuracy: 0.8942 - val_loss: 0.2821 - val_accuracy: 0.9093 - 4s/epoch - 13ms/step\n",
            "Epoch 3/25\n",
            "300/300 - 4s - loss: 0.2699 - accuracy: 0.9131 - val_loss: 0.2370 - val_accuracy: 0.9229 - 4s/epoch - 13ms/step\n",
            "Epoch 4/25\n",
            "300/300 - 4s - loss: 0.2373 - accuracy: 0.9218 - val_loss: 0.2174 - val_accuracy: 0.9301 - 4s/epoch - 13ms/step\n",
            "Epoch 5/25\n",
            "300/300 - 4s - loss: 0.2164 - accuracy: 0.9292 - val_loss: 0.2131 - val_accuracy: 0.9305 - 4s/epoch - 13ms/step\n",
            "Epoch 6/25\n",
            "300/300 - 4s - loss: 0.2025 - accuracy: 0.9330 - val_loss: 0.2086 - val_accuracy: 0.9343 - 4s/epoch - 13ms/step\n",
            "Epoch 7/25\n",
            "300/300 - 4s - loss: 0.1884 - accuracy: 0.9369 - val_loss: 0.1983 - val_accuracy: 0.9372 - 4s/epoch - 13ms/step\n",
            "Epoch 8/25\n",
            "300/300 - 4s - loss: 0.1777 - accuracy: 0.9407 - val_loss: 0.1927 - val_accuracy: 0.9381 - 4s/epoch - 13ms/step\n",
            "Epoch 9/25\n",
            "300/300 - 4s - loss: 0.1670 - accuracy: 0.9443 - val_loss: 0.1973 - val_accuracy: 0.9360 - 4s/epoch - 13ms/step\n",
            "Epoch 10/25\n",
            "300/300 - 4s - loss: 0.1588 - accuracy: 0.9461 - val_loss: 0.1934 - val_accuracy: 0.9372 - 4s/epoch - 13ms/step\n",
            "Epoch 11/25\n",
            "300/300 - 5s - loss: 0.1517 - accuracy: 0.9494 - val_loss: 0.1893 - val_accuracy: 0.9384 - 5s/epoch - 17ms/step\n",
            "Epoch 12/25\n",
            "300/300 - 5s - loss: 0.1427 - accuracy: 0.9516 - val_loss: 0.1849 - val_accuracy: 0.9392 - 5s/epoch - 16ms/step\n",
            "Epoch 13/25\n",
            "300/300 - 4s - loss: 0.1348 - accuracy: 0.9543 - val_loss: 0.1970 - val_accuracy: 0.9352 - 4s/epoch - 13ms/step\n",
            "Epoch 14/25\n",
            "300/300 - 4s - loss: 0.1298 - accuracy: 0.9560 - val_loss: 0.1865 - val_accuracy: 0.9399 - 4s/epoch - 13ms/step\n",
            "Epoch 15/25\n",
            "300/300 - 4s - loss: 0.1207 - accuracy: 0.9591 - val_loss: 0.1890 - val_accuracy: 0.9422 - 4s/epoch - 14ms/step\n",
            "Epoch 16/25\n",
            "300/300 - 4s - loss: 0.1176 - accuracy: 0.9603 - val_loss: 0.1909 - val_accuracy: 0.9418 - 4s/epoch - 13ms/step\n",
            "Epoch 17/25\n",
            "300/300 - 4s - loss: 0.1108 - accuracy: 0.9619 - val_loss: 0.1891 - val_accuracy: 0.9413 - 4s/epoch - 14ms/step\n",
            "Epoch 18/25\n",
            "300/300 - 4s - loss: 0.1054 - accuracy: 0.9633 - val_loss: 0.2019 - val_accuracy: 0.9373 - 4s/epoch - 13ms/step\n",
            "Epoch 19/25\n",
            "300/300 - 4s - loss: 0.0996 - accuracy: 0.9661 - val_loss: 0.2014 - val_accuracy: 0.9376 - 4s/epoch - 13ms/step\n",
            "Epoch 20/25\n",
            "300/300 - 4s - loss: 0.0948 - accuracy: 0.9676 - val_loss: 0.1834 - val_accuracy: 0.9446 - 4s/epoch - 14ms/step\n",
            "Epoch 21/25\n",
            "300/300 - 4s - loss: 0.0904 - accuracy: 0.9698 - val_loss: 0.2009 - val_accuracy: 0.9407 - 4s/epoch - 14ms/step\n",
            "Epoch 22/25\n",
            "300/300 - 4s - loss: 0.0832 - accuracy: 0.9722 - val_loss: 0.2031 - val_accuracy: 0.9409 - 4s/epoch - 13ms/step\n",
            "Epoch 23/25\n",
            "300/300 - 4s - loss: 0.0800 - accuracy: 0.9728 - val_loss: 0.2071 - val_accuracy: 0.9381 - 4s/epoch - 14ms/step\n",
            "Epoch 24/25\n",
            "300/300 - 4s - loss: 0.0747 - accuracy: 0.9743 - val_loss: 0.2066 - val_accuracy: 0.9402 - 4s/epoch - 14ms/step\n",
            "Epoch 25/25\n",
            "300/300 - 4s - loss: 0.0703 - accuracy: 0.9757 - val_loss: 0.2143 - val_accuracy: 0.9394 - 4s/epoch - 14ms/step\n",
            "Baseline Error: 6.06%\n"
          ]
        },
        {
          "output_type": "display_data",
          "data": {
            "text/plain": [
              "<Figure size 432x288 with 1 Axes>"
            ],
            "image/png": "[encoded data removed]"
          },
          "metadata": {
            "needs_background": "light"
          }
        },
        {
          "output_type": "display_data",
          "data": {
            "text/plain": [
              "<Figure size 432x288 with 1 Axes>"
            ],
            "image/png": "[encoded data removed]"
          },
          "metadata": {
            "needs_background": "light"
          }
        }
      ]
    }
  ]
}