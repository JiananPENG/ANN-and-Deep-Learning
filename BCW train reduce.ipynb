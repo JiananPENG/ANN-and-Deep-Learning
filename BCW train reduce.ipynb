{
  "nbformat": 4,
  "nbformat_minor": 0,
  "metadata": {
    "colab": {
      "provenance": [],
      "collapsed_sections": []
    },
    "kernelspec": {
      "name": "python3",
      "display_name": "Python 3"
    },
    "language_info": {
      "name": "python"
    }
  },
  "cells": [
    {
      "cell_type": "code",
      "execution_count": 82,
      "metadata": {
        "colab": {
          "base_uri": "https://localhost:8080/"
        },
        "id": "rycMdw6PFFbo",
        "outputId": "981a615e-818f-4375-92bb-254e64680134"
      },
      "outputs": [
        {
          "output_type": "stream",
          "name": "stdout",
          "text": [
            "Drive already mounted at /content/drive; to attempt to forcibly remount, call drive.mount(\"/content/drive\", force_remount=True).\n"
          ]
        }
      ],
      "source": [
        "from google.colab import drive\n",
        "drive.mount('/content/drive')"
      ]
    },
    {
      "cell_type": "code",
      "source": [
        "# Important libraries\n",
        "import numpy as np\n",
        "import pandas as pd\n",
        "from sklearn.neural_network import MLPRegressor \n",
        "from sklearn.model_selection import train_test_split\n",
        "\n",
        "# Loading data from the .csv file\n",
        "data_raw = pd.read_csv('/content/drive/MyDrive/Colab Notebooks/BCW_dataset.csv', delimiter=',', header=0, index_col=None)\n",
        "# Head method show first 5 rows of data\n",
        "print(data_raw.head())"
      ],
      "metadata": {
        "colab": {
          "base_uri": "https://localhost:8080/"
        },
        "id": "Kykt8TCzGy7c",
        "outputId": "df2b089b-805f-4236-8498-8996268e9909"
      },
      "execution_count": 3,
      "outputs": [
        {
          "output_type": "stream",
          "name": "stdout",
          "text": [
            "         id diagnosis  radius_mean  texture_mean  perimeter_mean  area_mean  \\\n",
            "0    842302         M        17.99         10.38          122.80     1001.0   \n",
            "1    842517         M        20.57         17.77          132.90     1326.0   \n",
            "2  84300903         M        19.69         21.25          130.00     1203.0   \n",
            "3  84348301         M        11.42         20.38           77.58      386.1   \n",
            "4  84358402         M        20.29         14.34          135.10     1297.0   \n",
            "\n",
            "   smoothness_mean  compactness_mean  concavity_mean  concave points_mean  \\\n",
            "0          0.11840           0.27760          0.3001              0.14710   \n",
            "1          0.08474           0.07864          0.0869              0.07017   \n",
            "2          0.10960           0.15990          0.1974              0.12790   \n",
            "3          0.14250           0.28390          0.2414              0.10520   \n",
            "4          0.10030           0.13280          0.1980              0.10430   \n",
            "\n",
            "   ...  texture_worst  perimeter_worst  area_worst  smoothness_worst  \\\n",
            "0  ...          17.33           184.60      2019.0            0.1622   \n",
            "1  ...          23.41           158.80      1956.0            0.1238   \n",
            "2  ...          25.53           152.50      1709.0            0.1444   \n",
            "3  ...          26.50            98.87       567.7            0.2098   \n",
            "4  ...          16.67           152.20      1575.0            0.1374   \n",
            "\n",
            "   compactness_worst  concavity_worst  concave points_worst  symmetry_worst  \\\n",
            "0             0.6656           0.7119                0.2654          0.4601   \n",
            "1             0.1866           0.2416                0.1860          0.2750   \n",
            "2             0.4245           0.4504                0.2430          0.3613   \n",
            "3             0.8663           0.6869                0.2575          0.6638   \n",
            "4             0.2050           0.4000                0.1625          0.2364   \n",
            "\n",
            "   fractal_dimension_worst  Unnamed: 32  \n",
            "0                  0.11890          NaN  \n",
            "1                  0.08902          NaN  \n",
            "2                  0.08758          NaN  \n",
            "3                  0.17300          NaN  \n",
            "4                  0.07678          NaN  \n",
            "\n",
            "[5 rows x 33 columns]\n"
          ]
        }
      ]
    },
    {
      "cell_type": "code",
      "source": [
        "# Drop unused columns\n",
        "drop_columns = ['Unnamed: 32','id',\t'diagnosis',\t'radius_mean',\t'texture_mean',\t'perimeter_mean',\t'area_mean',\t'smoothness_mean',\t'compactness_mean',\t'concavity_mean',\t'concave points_mean', 'fractal_dimension_mean', 'texture_se', 'perimeter_se',\t'area_se',\t'smoothness_se',\t'symmetry_se',\t'fractal_dimension_se', 'radius_worst',\t'perimeter_worst',\t'area_worst',\t'compactness_worst',\t'concavity_worst',\t'fractal_dimension_worst']\n",
        "# Convert strings -> integers\n",
        "d = {'M': 0, 'B': 1}\n",
        "# Define features and labels\n",
        "y = data_raw['diagnosis'].map(d)\n",
        "X = data_raw.drop(drop_columns, axis=1)\n",
        "print('X.shape: ',X.shape)\n",
        "print('y.shape: ',y.shape)\n",
        "# testing the data values\n",
        "print(y.values )\n",
        "y_tmp=y.values\n",
        "print(y_tmp[0:22])"
      ],
      "metadata": {
        "colab": {
          "base_uri": "https://localhost:8080/"
        },
        "id": "zsigVhFSPSwY",
        "outputId": "ad01f337-a003-4b06-bfce-8258aecadbb7"
      },
      "execution_count": 84,
      "outputs": [
        {
          "output_type": "stream",
          "name": "stdout",
          "text": [
            "X.shape:  (569, 9)\n",
            "y.shape:  (569,)\n",
            "[0 0 0 0 0 0 0 0 0 0 0 0 0 0 0 0 0 0 0 1 1 1 0 0 0 0 0 0 0 0 0 0 0 0 0 0 0\n",
            " 1 0 0 0 0 0 0 0 0 1 0 1 1 1 1 1 0 0 1 0 0 1 1 1 1 0 1 0 0 1 1 1 1 0 1 0 0\n",
            " 1 0 1 0 0 1 1 1 0 0 1 0 0 0 1 1 1 0 1 1 0 0 1 1 1 0 0 1 1 1 1 0 1 1 0 1 1\n",
            " 1 1 1 1 1 1 0 0 0 1 0 0 1 1 1 0 0 1 0 1 0 0 1 0 0 1 1 0 1 1 0 1 1 1 1 0 1\n",
            " 1 1 1 1 1 1 1 1 0 1 1 1 1 0 0 1 0 1 1 0 0 1 1 0 0 1 1 1 1 0 1 1 0 0 0 1 0\n",
            " 1 0 1 1 1 0 1 1 0 0 1 0 0 0 0 1 0 0 0 1 0 1 0 1 1 0 1 0 0 0 0 1 1 0 0 1 1\n",
            " 1 0 1 1 1 1 1 0 0 1 1 0 1 1 0 0 1 0 1 1 1 1 0 1 1 1 1 1 0 1 0 0 0 0 0 0 0\n",
            " 0 0 0 0 0 0 0 1 1 1 1 1 1 0 1 0 1 1 0 1 1 0 1 0 0 1 1 1 1 1 1 1 1 1 1 1 1\n",
            " 1 0 1 1 0 1 0 1 1 1 1 1 1 1 1 1 1 1 1 1 1 0 1 1 1 0 1 0 1 1 1 1 0 0 0 1 1\n",
            " 1 1 0 1 0 1 0 1 1 1 0 1 1 1 1 1 1 1 0 0 0 1 1 1 1 1 1 1 1 1 1 1 0 0 1 0 0\n",
            " 0 1 0 0 1 1 1 1 1 0 1 1 1 1 1 0 1 1 1 0 1 1 0 0 1 1 1 1 1 1 0 1 1 1 1 1 1\n",
            " 1 0 1 1 1 1 1 0 1 1 0 1 1 1 1 1 1 1 1 1 1 1 1 0 1 0 0 1 0 1 1 1 1 1 0 1 1\n",
            " 0 1 0 1 1 0 1 0 1 1 1 1 1 1 1 1 0 0 1 1 1 1 1 1 0 1 1 1 1 1 1 1 1 1 1 0 1\n",
            " 1 1 1 1 1 1 0 1 0 1 1 0 1 1 1 1 1 0 0 1 0 1 0 1 1 1 1 1 0 1 1 0 1 0 1 0 0\n",
            " 1 1 1 0 1 1 1 1 1 1 1 1 1 1 1 0 1 0 0 1 1 1 1 1 1 1 1 1 1 1 1 1 1 1 1 1 1\n",
            " 1 1 1 1 1 1 1 0 0 0 0 0 0 1]\n",
            "[0 0 0 0 0 0 0 0 0 0 0 0 0 0 0 0 0 0 0 1 1 1]\n"
          ]
        }
      ]
    },
    {
      "cell_type": "code",
      "source": [
        "import seaborn as sns\n",
        "import matplotlib.pyplot as plt\n",
        "\n",
        "\n",
        "# Split dataset into training (75%) and test (25%) set\n",
        "X_train, X_test, y_train, y_test = train_test_split(X, y, test_size=0.25, random_state=0)\n",
        "# Normalization of the data\n",
        "X_train_n = (X_train-X_train.mean())/(X_train.max()-X_train.min())\n",
        "X_test_n = (X_test-X_train.mean())/(X_test.max()-X_test.min())\n",
        "print(X_train_n.shape)\n",
        "print(y_train.shape)\n",
        "print(y[0:3])\n",
        "#print(X_train_n)"
      ],
      "metadata": {
        "colab": {
          "base_uri": "https://localhost:8080/"
        },
        "id": "GayGfViZQGzG",
        "outputId": "378eaa5d-0db1-4db8-f8ce-0bdb278d61a2"
      },
      "execution_count": 85,
      "outputs": [
        {
          "output_type": "stream",
          "name": "stdout",
          "text": [
            "(426, 9)\n",
            "(426,)\n",
            "0    0\n",
            "1    0\n",
            "2    0\n",
            "Name: diagnosis, dtype: int64\n"
          ]
        }
      ]
    },
    {
      "cell_type": "code",
      "source": [
        "import numpy as np\n",
        "import pandas as pd\n",
        "import matplotlib.pyplot as plt\n",
        "from sklearn.datasets import load_iris\n",
        "from sklearn.model_selection import train_test_split\n",
        "from sklearn.preprocessing import OneHotEncoder"
      ],
      "metadata": {
        "id": "4JeaN_PKX67S"
      },
      "execution_count": 86,
      "outputs": []
    },
    {
      "cell_type": "code",
      "source": [
        "# One hot encoding\n",
        "encode_array = OneHotEncoder()\n",
        "Y = encode_array.fit_transform(y[:, None]).toarray()\n",
        "print('y[0:5] = ',y[0:5])\n",
        "print(' ')\n",
        "print('First five one hot encoded output: ')\n",
        "print(Y[0:5])"
      ],
      "metadata": {
        "colab": {
          "base_uri": "https://localhost:8080/"
        },
        "id": "n7ZpntVLatRQ",
        "outputId": "5152fb11-a2e5-481c-8942-7818fbd1a3e2"
      },
      "execution_count": 87,
      "outputs": [
        {
          "output_type": "stream",
          "name": "stdout",
          "text": [
            "y[0:5] =  0    0\n",
            "1    0\n",
            "2    0\n",
            "3    0\n",
            "4    0\n",
            "Name: diagnosis, dtype: int64\n",
            " \n",
            "First five one hot encoded output: \n",
            "[[1. 0.]\n",
            " [1. 0.]\n",
            " [1. 0.]\n",
            " [1. 0.]\n",
            " [1. 0.]]\n"
          ]
        },
        {
          "output_type": "stream",
          "name": "stderr",
          "text": [
            "/usr/local/lib/python3.7/dist-packages/ipykernel_launcher.py:3: FutureWarning: Support for multi-dimensional indexing (e.g. `obj[:, None]`) is deprecated and will be removed in a future version.  Convert to a numpy array before indexing instead.\n",
            "  This is separate from the ipykernel package so we can avoid doing imports until\n"
          ]
        }
      ]
    },
    {
      "cell_type": "code",
      "source": [
        "num_features = X.shape[1]\n",
        "num_classes = Y.shape[1]\n",
        "print('num_features = ',num_features)\n",
        "print('num_classes = ',num_classes)"
      ],
      "metadata": {
        "colab": {
          "base_uri": "https://localhost:8080/"
        },
        "id": "9Np5FClgaeWD",
        "outputId": "e0fbd2f0-578d-41c1-e047-12c3f83f96ed"
      },
      "execution_count": 88,
      "outputs": [
        {
          "output_type": "stream",
          "name": "stdout",
          "text": [
            "num_features =  9\n",
            "num_classes =  2\n"
          ]
        }
      ]
    },
    {
      "cell_type": "code",
      "source": [
        "from keras.models import Sequential\n",
        "from keras.layers import Dense"
      ],
      "metadata": {
        "id": "ii2o-sT4axNw"
      },
      "execution_count": 10,
      "outputs": []
    },
    {
      "cell_type": "code",
      "source": [
        "# define the model structure\n",
        "# Dense : a regular fully connected layer\n",
        "\n",
        "# The following is a simple two-hidden layer ANN; \n",
        "# 30 inputs, 10/8 hidden nodes; 2 outputs with softmax\n",
        "# Define the number of hidden nodes\n",
        "num_hidden_nodes1 = 10\n",
        "num_hidden_nodes2 = 8\n",
        "\n",
        "def model_1():\n",
        "    # create model\n",
        "    model = Sequential()\n",
        "    model.add(Dense(num_hidden_nodes1, input_dim=num_features, activation='relu'))\n",
        "    model.add(Dense(num_hidden_nodes2, activation='relu'))\n",
        "    model.add(Dense(num_classes, activation='softmax'))\n",
        "    # Compile model\n",
        "    model.compile(loss='sparse_categorical_crossentropy', optimizer='adam', metrics=['accuracy'])\n",
        "    # Choice of optimizer: adam (adaptive moment estimation), AdaGrad (adaptive learning rate), \n",
        "    # sgd (Stochastic gradient descent), RMSprop (similar to AdaGrad), Adadelta (adaptive delta) ...\n",
        "    return model\n",
        "\n",
        "# build the model\n",
        "model = model_1()\n"
      ],
      "metadata": {
        "id": "soh2I2Xca2Wb"
      },
      "execution_count": 89,
      "outputs": []
    },
    {
      "cell_type": "code",
      "source": [
        "# Training of the ANN\n",
        "history = model.fit(X_train_n, y_train, batch_size=5, epochs=60,verbose=2, validation_data=(X_test_n, y_test))\n",
        "\n",
        "# Testing of the trained ANN with X_test\n",
        "score = model.evaluate(X_test_n, y_test, verbose=0)\n",
        "print('Test loss:', score[0])\n",
        "print('Test accuracy:', score[1])"
      ],
      "metadata": {
        "colab": {
          "base_uri": "https://localhost:8080/"
        },
        "id": "KRh8l_cJbJUX",
        "outputId": "2baf171c-0737-4084-e7ff-46f1b9e06c6a"
      },
      "execution_count": 90,
      "outputs": [
        {
          "output_type": "stream",
          "name": "stdout",
          "text": [
            "Epoch 1/60\n",
            "86/86 - 0s - loss: 0.6421 - accuracy: 0.7277 - val_loss: 0.5917 - val_accuracy: 0.7902 - 472ms/epoch - 5ms/step\n",
            "Epoch 2/60\n",
            "86/86 - 0s - loss: 0.4959 - accuracy: 0.8592 - val_loss: 0.4392 - val_accuracy: 0.8671 - 111ms/epoch - 1ms/step\n",
            "Epoch 3/60\n",
            "86/86 - 0s - loss: 0.3601 - accuracy: 0.8967 - val_loss: 0.3243 - val_accuracy: 0.9021 - 110ms/epoch - 1ms/step\n",
            "Epoch 4/60\n",
            "86/86 - 0s - loss: 0.2697 - accuracy: 0.9178 - val_loss: 0.2531 - val_accuracy: 0.9091 - 120ms/epoch - 1ms/step\n",
            "Epoch 5/60\n",
            "86/86 - 0s - loss: 0.2142 - accuracy: 0.9319 - val_loss: 0.2146 - val_accuracy: 0.9371 - 153ms/epoch - 2ms/step\n",
            "Epoch 6/60\n",
            "86/86 - 0s - loss: 0.1832 - accuracy: 0.9390 - val_loss: 0.1914 - val_accuracy: 0.9371 - 109ms/epoch - 1ms/step\n",
            "Epoch 7/60\n",
            "86/86 - 0s - loss: 0.1628 - accuracy: 0.9437 - val_loss: 0.1762 - val_accuracy: 0.9371 - 113ms/epoch - 1ms/step\n",
            "Epoch 8/60\n",
            "86/86 - 0s - loss: 0.1491 - accuracy: 0.9460 - val_loss: 0.1684 - val_accuracy: 0.9441 - 108ms/epoch - 1ms/step\n",
            "Epoch 9/60\n",
            "86/86 - 0s - loss: 0.1394 - accuracy: 0.9484 - val_loss: 0.1630 - val_accuracy: 0.9441 - 116ms/epoch - 1ms/step\n",
            "Epoch 10/60\n",
            "86/86 - 0s - loss: 0.1302 - accuracy: 0.9531 - val_loss: 0.1597 - val_accuracy: 0.9580 - 114ms/epoch - 1ms/step\n",
            "Epoch 11/60\n",
            "86/86 - 0s - loss: 0.1261 - accuracy: 0.9554 - val_loss: 0.1583 - val_accuracy: 0.9510 - 109ms/epoch - 1ms/step\n",
            "Epoch 12/60\n",
            "86/86 - 0s - loss: 0.1191 - accuracy: 0.9531 - val_loss: 0.1593 - val_accuracy: 0.9371 - 156ms/epoch - 2ms/step\n",
            "Epoch 13/60\n",
            "86/86 - 0s - loss: 0.1139 - accuracy: 0.9554 - val_loss: 0.1612 - val_accuracy: 0.9510 - 110ms/epoch - 1ms/step\n",
            "Epoch 14/60\n",
            "86/86 - 0s - loss: 0.1104 - accuracy: 0.9577 - val_loss: 0.1629 - val_accuracy: 0.9371 - 122ms/epoch - 1ms/step\n",
            "Epoch 15/60\n",
            "86/86 - 0s - loss: 0.1058 - accuracy: 0.9577 - val_loss: 0.1650 - val_accuracy: 0.9441 - 149ms/epoch - 2ms/step\n",
            "Epoch 16/60\n",
            "86/86 - 0s - loss: 0.1070 - accuracy: 0.9554 - val_loss: 0.1711 - val_accuracy: 0.9301 - 150ms/epoch - 2ms/step\n",
            "Epoch 17/60\n",
            "86/86 - 0s - loss: 0.1011 - accuracy: 0.9624 - val_loss: 0.1713 - val_accuracy: 0.9231 - 152ms/epoch - 2ms/step\n",
            "Epoch 18/60\n",
            "86/86 - 0s - loss: 0.0981 - accuracy: 0.9601 - val_loss: 0.1728 - val_accuracy: 0.9231 - 150ms/epoch - 2ms/step\n",
            "Epoch 19/60\n",
            "86/86 - 0s - loss: 0.0967 - accuracy: 0.9624 - val_loss: 0.1745 - val_accuracy: 0.9371 - 110ms/epoch - 1ms/step\n",
            "Epoch 20/60\n",
            "86/86 - 0s - loss: 0.0925 - accuracy: 0.9648 - val_loss: 0.1771 - val_accuracy: 0.9231 - 109ms/epoch - 1ms/step\n",
            "Epoch 21/60\n",
            "86/86 - 0s - loss: 0.0924 - accuracy: 0.9624 - val_loss: 0.1783 - val_accuracy: 0.9371 - 158ms/epoch - 2ms/step\n",
            "Epoch 22/60\n",
            "86/86 - 0s - loss: 0.0904 - accuracy: 0.9695 - val_loss: 0.1817 - val_accuracy: 0.9301 - 148ms/epoch - 2ms/step\n",
            "Epoch 23/60\n",
            "86/86 - 0s - loss: 0.0883 - accuracy: 0.9648 - val_loss: 0.1850 - val_accuracy: 0.9301 - 109ms/epoch - 1ms/step\n",
            "Epoch 24/60\n",
            "86/86 - 0s - loss: 0.0859 - accuracy: 0.9648 - val_loss: 0.1868 - val_accuracy: 0.9301 - 110ms/epoch - 1ms/step\n",
            "Epoch 25/60\n",
            "86/86 - 0s - loss: 0.0843 - accuracy: 0.9671 - val_loss: 0.1901 - val_accuracy: 0.9231 - 147ms/epoch - 2ms/step\n",
            "Epoch 26/60\n",
            "86/86 - 0s - loss: 0.0844 - accuracy: 0.9624 - val_loss: 0.1907 - val_accuracy: 0.9301 - 112ms/epoch - 1ms/step\n",
            "Epoch 27/60\n",
            "86/86 - 0s - loss: 0.0816 - accuracy: 0.9695 - val_loss: 0.1913 - val_accuracy: 0.9301 - 154ms/epoch - 2ms/step\n",
            "Epoch 28/60\n",
            "86/86 - 0s - loss: 0.0805 - accuracy: 0.9671 - val_loss: 0.1943 - val_accuracy: 0.9301 - 117ms/epoch - 1ms/step\n",
            "Epoch 29/60\n",
            "86/86 - 0s - loss: 0.0793 - accuracy: 0.9671 - val_loss: 0.1974 - val_accuracy: 0.9301 - 161ms/epoch - 2ms/step\n",
            "Epoch 30/60\n",
            "86/86 - 0s - loss: 0.0778 - accuracy: 0.9695 - val_loss: 0.2030 - val_accuracy: 0.9231 - 150ms/epoch - 2ms/step\n",
            "Epoch 31/60\n",
            "86/86 - 0s - loss: 0.0761 - accuracy: 0.9718 - val_loss: 0.2054 - val_accuracy: 0.9231 - 148ms/epoch - 2ms/step\n",
            "Epoch 32/60\n",
            "86/86 - 0s - loss: 0.0749 - accuracy: 0.9695 - val_loss: 0.2059 - val_accuracy: 0.9161 - 154ms/epoch - 2ms/step\n",
            "Epoch 33/60\n",
            "86/86 - 0s - loss: 0.0755 - accuracy: 0.9718 - val_loss: 0.2068 - val_accuracy: 0.9231 - 156ms/epoch - 2ms/step\n",
            "Epoch 34/60\n",
            "86/86 - 0s - loss: 0.0721 - accuracy: 0.9742 - val_loss: 0.2105 - val_accuracy: 0.9231 - 110ms/epoch - 1ms/step\n",
            "Epoch 35/60\n",
            "86/86 - 0s - loss: 0.0735 - accuracy: 0.9671 - val_loss: 0.2150 - val_accuracy: 0.9161 - 110ms/epoch - 1ms/step\n",
            "Epoch 36/60\n",
            "86/86 - 0s - loss: 0.0703 - accuracy: 0.9742 - val_loss: 0.2128 - val_accuracy: 0.9231 - 154ms/epoch - 2ms/step\n",
            "Epoch 37/60\n",
            "86/86 - 0s - loss: 0.0708 - accuracy: 0.9718 - val_loss: 0.2143 - val_accuracy: 0.9231 - 112ms/epoch - 1ms/step\n",
            "Epoch 38/60\n",
            "86/86 - 0s - loss: 0.0689 - accuracy: 0.9742 - val_loss: 0.2151 - val_accuracy: 0.9231 - 109ms/epoch - 1ms/step\n",
            "Epoch 39/60\n",
            "86/86 - 0s - loss: 0.0694 - accuracy: 0.9742 - val_loss: 0.2197 - val_accuracy: 0.9161 - 108ms/epoch - 1ms/step\n",
            "Epoch 40/60\n",
            "86/86 - 0s - loss: 0.0680 - accuracy: 0.9742 - val_loss: 0.2182 - val_accuracy: 0.9231 - 114ms/epoch - 1ms/step\n",
            "Epoch 41/60\n",
            "86/86 - 0s - loss: 0.0668 - accuracy: 0.9742 - val_loss: 0.2209 - val_accuracy: 0.9161 - 148ms/epoch - 2ms/step\n",
            "Epoch 42/60\n",
            "86/86 - 0s - loss: 0.0671 - accuracy: 0.9742 - val_loss: 0.2223 - val_accuracy: 0.9231 - 109ms/epoch - 1ms/step\n",
            "Epoch 43/60\n",
            "86/86 - 0s - loss: 0.0658 - accuracy: 0.9765 - val_loss: 0.2221 - val_accuracy: 0.9231 - 150ms/epoch - 2ms/step\n",
            "Epoch 44/60\n",
            "86/86 - 0s - loss: 0.0653 - accuracy: 0.9718 - val_loss: 0.2261 - val_accuracy: 0.9161 - 111ms/epoch - 1ms/step\n",
            "Epoch 45/60\n",
            "86/86 - 0s - loss: 0.0645 - accuracy: 0.9742 - val_loss: 0.2304 - val_accuracy: 0.9161 - 125ms/epoch - 1ms/step\n",
            "Epoch 46/60\n",
            "86/86 - 0s - loss: 0.0638 - accuracy: 0.9765 - val_loss: 0.2261 - val_accuracy: 0.9161 - 116ms/epoch - 1ms/step\n",
            "Epoch 47/60\n",
            "86/86 - 0s - loss: 0.0632 - accuracy: 0.9718 - val_loss: 0.2337 - val_accuracy: 0.9161 - 157ms/epoch - 2ms/step\n",
            "Epoch 48/60\n",
            "86/86 - 0s - loss: 0.0655 - accuracy: 0.9789 - val_loss: 0.2287 - val_accuracy: 0.9161 - 109ms/epoch - 1ms/step\n",
            "Epoch 49/60\n",
            "86/86 - 0s - loss: 0.0626 - accuracy: 0.9765 - val_loss: 0.2345 - val_accuracy: 0.9161 - 108ms/epoch - 1ms/step\n",
            "Epoch 50/60\n",
            "86/86 - 0s - loss: 0.0630 - accuracy: 0.9742 - val_loss: 0.2341 - val_accuracy: 0.9161 - 159ms/epoch - 2ms/step\n",
            "Epoch 51/60\n",
            "86/86 - 0s - loss: 0.0618 - accuracy: 0.9742 - val_loss: 0.2368 - val_accuracy: 0.9161 - 116ms/epoch - 1ms/step\n",
            "Epoch 52/60\n",
            "86/86 - 0s - loss: 0.0601 - accuracy: 0.9718 - val_loss: 0.2414 - val_accuracy: 0.9161 - 146ms/epoch - 2ms/step\n",
            "Epoch 53/60\n",
            "86/86 - 0s - loss: 0.0619 - accuracy: 0.9742 - val_loss: 0.2409 - val_accuracy: 0.9091 - 112ms/epoch - 1ms/step\n",
            "Epoch 54/60\n",
            "86/86 - 0s - loss: 0.0603 - accuracy: 0.9742 - val_loss: 0.2404 - val_accuracy: 0.9091 - 147ms/epoch - 2ms/step\n",
            "Epoch 55/60\n",
            "86/86 - 0s - loss: 0.0606 - accuracy: 0.9789 - val_loss: 0.2361 - val_accuracy: 0.9091 - 150ms/epoch - 2ms/step\n",
            "Epoch 56/60\n",
            "86/86 - 0s - loss: 0.0601 - accuracy: 0.9765 - val_loss: 0.2392 - val_accuracy: 0.9091 - 111ms/epoch - 1ms/step\n",
            "Epoch 57/60\n",
            "86/86 - 0s - loss: 0.0602 - accuracy: 0.9718 - val_loss: 0.2372 - val_accuracy: 0.9091 - 107ms/epoch - 1ms/step\n",
            "Epoch 58/60\n",
            "86/86 - 0s - loss: 0.0589 - accuracy: 0.9742 - val_loss: 0.2383 - val_accuracy: 0.9091 - 149ms/epoch - 2ms/step\n",
            "Epoch 59/60\n",
            "86/86 - 0s - loss: 0.0577 - accuracy: 0.9718 - val_loss: 0.2437 - val_accuracy: 0.9091 - 114ms/epoch - 1ms/step\n",
            "Epoch 60/60\n",
            "86/86 - 0s - loss: 0.0588 - accuracy: 0.9742 - val_loss: 0.2434 - val_accuracy: 0.9091 - 150ms/epoch - 2ms/step\n",
            "Test loss: 0.24337992072105408\n",
            "Test accuracy: 0.9090909361839294\n"
          ]
        }
      ]
    },
    {
      "cell_type": "code",
      "source": [
        "# To show the performance of the ANN during training\n",
        "# The information has already been saved in \"history\"\n",
        "\n",
        "metrics = history.history\n",
        "plt.plot(history.epoch, metrics['accuracy'], metrics['val_accuracy'])\n",
        "plt.legend(['accuracy', 'val_accuracy'])\n",
        "plt.show()\n",
        "\n",
        "plt.plot(history.epoch, metrics['loss'], metrics['val_loss'])\n",
        "plt.legend(['loss', 'val_loss'])\n",
        "plt.show()"
      ],
      "metadata": {
        "colab": {
          "base_uri": "https://localhost:8080/",
          "height": 513
        },
        "id": "N8jiKcP8blNL",
        "outputId": "e73d821c-19fb-4ff0-a1b6-58a717ee4f2e"
      },
      "execution_count": 91,
      "outputs": [
        {
          "output_type": "display_data",
          "data": {
            "text/plain": [
              "<Figure size 432x288 with 1 Axes>"
            ],
            "image/png": "[encoded data removed]"
          },
          "metadata": {
            "needs_background": "light"
          }
        },
        {
          "output_type": "display_data",
          "data": {
            "text/plain": [
              "<Figure size 432x288 with 1 Axes>"
            ],
            "image/png": "[encoded data removed]"
          },
          "metadata": {
            "needs_background": "light"
          }
        }
      ]
    },
    {
      "cell_type": "code",
      "source": [
        "from sklearn.metrics import confusion_matrix\n",
        "from sklearn.metrics import recall_score\n",
        "from sklearn.metrics import f1_score\n",
        "from sklearn.metrics import precision_score"
      ],
      "metadata": {
        "id": "u7AiP2TtgYtx"
      },
      "execution_count": 92,
      "outputs": []
    },
    {
      "cell_type": "code",
      "source": [
        "y_prediction=model.predict(X_test_n)\n",
        "print('y_prediction.shape = ',y_prediction.shape)\n",
        "y_pred=np.argmax(y_prediction,axis=1)"
      ],
      "metadata": {
        "colab": {
          "base_uri": "https://localhost:8080/"
        },
        "id": "qXFXh8mIlWK5",
        "outputId": "fcfb088b-fe8a-4bf8-b6de-6aba92e9f377"
      },
      "execution_count": 93,
      "outputs": [
        {
          "output_type": "stream",
          "name": "stdout",
          "text": [
            "5/5 [==============================] - 0s 2ms/step\n",
            "y_prediction.shape =  (143, 2)\n"
          ]
        }
      ]
    },
    {
      "cell_type": "code",
      "source": [
        "confusion_matrix(y_test, y_pred, labels=None, sample_weight=None)"
      ],
      "metadata": {
        "colab": {
          "base_uri": "https://localhost:8080/"
        },
        "id": "VlkYzglulkCM",
        "outputId": "7815152a-cfa7-402b-9a16-19bb2a26a5ff"
      },
      "execution_count": 94,
      "outputs": [
        {
          "output_type": "execute_result",
          "data": {
            "text/plain": [
              "array([[47,  6],\n",
              "       [ 7, 83]])"
            ]
          },
          "metadata": {},
          "execution_count": 94
        }
      ]
    },
    {
      "cell_type": "code",
      "source": [
        "print(precision_score(y_test, y_pred, average=None))"
      ],
      "metadata": {
        "colab": {
          "base_uri": "https://localhost:8080/"
        },
        "id": "xYuJd5zmg-x-",
        "outputId": "24005339-c7c2-43ef-95d9-86fd4a704ebf"
      },
      "execution_count": 95,
      "outputs": [
        {
          "output_type": "stream",
          "name": "stdout",
          "text": [
            "[0.87037037 0.93258427]\n"
          ]
        }
      ]
    },
    {
      "cell_type": "code",
      "source": [
        "print(recall_score(y_test, y_pred, average=None))"
      ],
      "metadata": {
        "colab": {
          "base_uri": "https://localhost:8080/"
        },
        "id": "MHq6-4YJhHSl",
        "outputId": "2d4e9df5-8fb8-4351-fac7-80e5defca719"
      },
      "execution_count": 96,
      "outputs": [
        {
          "output_type": "stream",
          "name": "stdout",
          "text": [
            "[0.88679245 0.92222222]\n"
          ]
        }
      ]
    },
    {
      "cell_type": "code",
      "source": [
        "print(f1_score(y_test, y_pred, average=None))"
      ],
      "metadata": {
        "colab": {
          "base_uri": "https://localhost:8080/"
        },
        "id": "cyKlMqj-hlqU",
        "outputId": "3732fe00-39cb-4503-f762-aaaae36b2f54"
      },
      "execution_count": 97,
      "outputs": [
        {
          "output_type": "stream",
          "name": "stdout",
          "text": [
            "[0.87850467 0.9273743 ]\n"
          ]
        }
      ]
    }
  ]
}