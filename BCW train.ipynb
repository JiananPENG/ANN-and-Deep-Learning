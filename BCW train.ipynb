{
  "nbformat": 4,
  "nbformat_minor": 0,
  "metadata": {
    "colab": {
      "provenance": [],
      "collapsed_sections": []
    },
    "kernelspec": {
      "name": "python3",
      "display_name": "Python 3"
    },
    "language_info": {
      "name": "python"
    }
  },
  "cells": [
    {
      "cell_type": "code",
      "execution_count": 2,
      "metadata": {
        "colab": {
          "base_uri": "https://localhost:8080/"
        },
        "id": "rycMdw6PFFbo",
        "outputId": "9f12f2e9-5f27-457f-f1af-d3c818cd259e"
      },
      "outputs": [
        {
          "output_type": "stream",
          "name": "stdout",
          "text": [
            "Mounted at /content/drive\n"
          ]
        }
      ],
      "source": [
        "from google.colab import drive\n",
        "drive.mount('/content/drive')"
      ]
    },
    {
      "cell_type": "code",
      "source": [
        "# Important libraries\n",
        "import numpy as np\n",
        "import pandas as pd\n",
        "from sklearn.neural_network import MLPRegressor \n",
        "from sklearn.model_selection import train_test_split\n",
        "\n",
        "# Loading data from the .csv file\n",
        "data_raw = pd.read_csv('/content/drive/MyDrive/Colab Notebooks/BCW_dataset.csv', delimiter=',', header=0, index_col=None)\n",
        "# Head method show first 5 rows of data\n",
        "print(data_raw.head())"
      ],
      "metadata": {
        "colab": {
          "base_uri": "https://localhost:8080/"
        },
        "id": "Kykt8TCzGy7c",
        "outputId": "df2b089b-805f-4236-8498-8996268e9909"
      },
      "execution_count": 3,
      "outputs": [
        {
          "output_type": "stream",
          "name": "stdout",
          "text": [
            "         id diagnosis  radius_mean  texture_mean  perimeter_mean  area_mean  \\\n",
            "0    842302         M        17.99         10.38          122.80     1001.0   \n",
            "1    842517         M        20.57         17.77          132.90     1326.0   \n",
            "2  84300903         M        19.69         21.25          130.00     1203.0   \n",
            "3  84348301         M        11.42         20.38           77.58      386.1   \n",
            "4  84358402         M        20.29         14.34          135.10     1297.0   \n",
            "\n",
            "   smoothness_mean  compactness_mean  concavity_mean  concave points_mean  \\\n",
            "0          0.11840           0.27760          0.3001              0.14710   \n",
            "1          0.08474           0.07864          0.0869              0.07017   \n",
            "2          0.10960           0.15990          0.1974              0.12790   \n",
            "3          0.14250           0.28390          0.2414              0.10520   \n",
            "4          0.10030           0.13280          0.1980              0.10430   \n",
            "\n",
            "   ...  texture_worst  perimeter_worst  area_worst  smoothness_worst  \\\n",
            "0  ...          17.33           184.60      2019.0            0.1622   \n",
            "1  ...          23.41           158.80      1956.0            0.1238   \n",
            "2  ...          25.53           152.50      1709.0            0.1444   \n",
            "3  ...          26.50            98.87       567.7            0.2098   \n",
            "4  ...          16.67           152.20      1575.0            0.1374   \n",
            "\n",
            "   compactness_worst  concavity_worst  concave points_worst  symmetry_worst  \\\n",
            "0             0.6656           0.7119                0.2654          0.4601   \n",
            "1             0.1866           0.2416                0.1860          0.2750   \n",
            "2             0.4245           0.4504                0.2430          0.3613   \n",
            "3             0.8663           0.6869                0.2575          0.6638   \n",
            "4             0.2050           0.4000                0.1625          0.2364   \n",
            "\n",
            "   fractal_dimension_worst  Unnamed: 32  \n",
            "0                  0.11890          NaN  \n",
            "1                  0.08902          NaN  \n",
            "2                  0.08758          NaN  \n",
            "3                  0.17300          NaN  \n",
            "4                  0.07678          NaN  \n",
            "\n",
            "[5 rows x 33 columns]\n"
          ]
        }
      ]
    },
    {
      "cell_type": "code",
      "source": [
        "# Drop unused columns\n",
        "drop_columns = ['Unnamed: 32', 'id', 'diagnosis']\n",
        "# Convert strings -> integers\n",
        "d = {'M': 0, 'B': 1}\n",
        "# Define features and labels\n",
        "y = data_raw['diagnosis'].map(d)\n",
        "X = data_raw.drop(drop_columns, axis=1)\n",
        "print('X.shape: ',X.shape)\n",
        "print('y.shape: ',y.shape)\n",
        "# testing the data values\n",
        "print(y.values )\n",
        "y_tmp=y.values\n",
        "print(y_tmp[0:22])"
      ],
      "metadata": {
        "colab": {
          "base_uri": "https://localhost:8080/"
        },
        "id": "zsigVhFSPSwY",
        "outputId": "67f18ae1-6ea1-4605-ffb9-4a05e5aff1f2"
      },
      "execution_count": 4,
      "outputs": [
        {
          "output_type": "stream",
          "name": "stdout",
          "text": [
            "X.shape:  (569, 30)\n",
            "y.shape:  (569,)\n",
            "[0 0 0 0 0 0 0 0 0 0 0 0 0 0 0 0 0 0 0 1 1 1 0 0 0 0 0 0 0 0 0 0 0 0 0 0 0\n",
            " 1 0 0 0 0 0 0 0 0 1 0 1 1 1 1 1 0 0 1 0 0 1 1 1 1 0 1 0 0 1 1 1 1 0 1 0 0\n",
            " 1 0 1 0 0 1 1 1 0 0 1 0 0 0 1 1 1 0 1 1 0 0 1 1 1 0 0 1 1 1 1 0 1 1 0 1 1\n",
            " 1 1 1 1 1 1 0 0 0 1 0 0 1 1 1 0 0 1 0 1 0 0 1 0 0 1 1 0 1 1 0 1 1 1 1 0 1\n",
            " 1 1 1 1 1 1 1 1 0 1 1 1 1 0 0 1 0 1 1 0 0 1 1 0 0 1 1 1 1 0 1 1 0 0 0 1 0\n",
            " 1 0 1 1 1 0 1 1 0 0 1 0 0 0 0 1 0 0 0 1 0 1 0 1 1 0 1 0 0 0 0 1 1 0 0 1 1\n",
            " 1 0 1 1 1 1 1 0 0 1 1 0 1 1 0 0 1 0 1 1 1 1 0 1 1 1 1 1 0 1 0 0 0 0 0 0 0\n",
            " 0 0 0 0 0 0 0 1 1 1 1 1 1 0 1 0 1 1 0 1 1 0 1 0 0 1 1 1 1 1 1 1 1 1 1 1 1\n",
            " 1 0 1 1 0 1 0 1 1 1 1 1 1 1 1 1 1 1 1 1 1 0 1 1 1 0 1 0 1 1 1 1 0 0 0 1 1\n",
            " 1 1 0 1 0 1 0 1 1 1 0 1 1 1 1 1 1 1 0 0 0 1 1 1 1 1 1 1 1 1 1 1 0 0 1 0 0\n",
            " 0 1 0 0 1 1 1 1 1 0 1 1 1 1 1 0 1 1 1 0 1 1 0 0 1 1 1 1 1 1 0 1 1 1 1 1 1\n",
            " 1 0 1 1 1 1 1 0 1 1 0 1 1 1 1 1 1 1 1 1 1 1 1 0 1 0 0 1 0 1 1 1 1 1 0 1 1\n",
            " 0 1 0 1 1 0 1 0 1 1 1 1 1 1 1 1 0 0 1 1 1 1 1 1 0 1 1 1 1 1 1 1 1 1 1 0 1\n",
            " 1 1 1 1 1 1 0 1 0 1 1 0 1 1 1 1 1 0 0 1 0 1 0 1 1 1 1 1 0 1 1 0 1 0 1 0 0\n",
            " 1 1 1 0 1 1 1 1 1 1 1 1 1 1 1 0 1 0 0 1 1 1 1 1 1 1 1 1 1 1 1 1 1 1 1 1 1\n",
            " 1 1 1 1 1 1 1 0 0 0 0 0 0 1]\n",
            "[0 0 0 0 0 0 0 0 0 0 0 0 0 0 0 0 0 0 0 1 1 1]\n"
          ]
        }
      ]
    },
    {
      "cell_type": "code",
      "source": [
        "import seaborn as sns\n",
        "import matplotlib.pyplot as plt\n",
        "\n",
        "\n",
        "# Split dataset into training (75%) and test (25%) set\n",
        "X_train, X_test, y_train, y_test = train_test_split(X, y, test_size=0.25, random_state=0)\n",
        "# Normalization of the data\n",
        "X_train_n = (X_train-X_train.mean())/(X_train.max()-X_train.min())\n",
        "X_test_n = (X_test-X_train.mean())/(X_test.max()-X_test.min())\n",
        "print(X_train_n.shape)\n",
        "print(y_train.shape)\n",
        "print(y[0:3])\n",
        "#print(X_train_n)"
      ],
      "metadata": {
        "colab": {
          "base_uri": "https://localhost:8080/"
        },
        "id": "GayGfViZQGzG",
        "outputId": "3db82059-da06-4f1c-f03a-625234ffa6fa"
      },
      "execution_count": 5,
      "outputs": [
        {
          "output_type": "stream",
          "name": "stdout",
          "text": [
            "(426, 30)\n",
            "(426,)\n",
            "0    0\n",
            "1    0\n",
            "2    0\n",
            "Name: diagnosis, dtype: int64\n"
          ]
        }
      ]
    },
    {
      "cell_type": "code",
      "source": [
        "import numpy as np\n",
        "import pandas as pd\n",
        "import matplotlib.pyplot as plt\n",
        "from sklearn.datasets import load_iris\n",
        "from sklearn.model_selection import train_test_split\n",
        "from sklearn.preprocessing import OneHotEncoder"
      ],
      "metadata": {
        "id": "4JeaN_PKX67S"
      },
      "execution_count": 7,
      "outputs": []
    },
    {
      "cell_type": "code",
      "source": [
        "# One hot encoding\n",
        "encode_array = OneHotEncoder()\n",
        "Y = encode_array.fit_transform(y[:, None]).toarray()\n",
        "print('y[0:5] = ',y[0:5])\n",
        "print(' ')\n",
        "print('First five one hot encoded output: ')\n",
        "print(Y[0:5])"
      ],
      "metadata": {
        "colab": {
          "base_uri": "https://localhost:8080/"
        },
        "id": "n7ZpntVLatRQ",
        "outputId": "c9164df7-8e97-4d42-fc5c-a12c0bded4d2"
      },
      "execution_count": 8,
      "outputs": [
        {
          "output_type": "stream",
          "name": "stdout",
          "text": [
            "y[0:5] =  0    0\n",
            "1    0\n",
            "2    0\n",
            "3    0\n",
            "4    0\n",
            "Name: diagnosis, dtype: int64\n",
            " \n",
            "First five one hot encoded output: \n",
            "[[1. 0.]\n",
            " [1. 0.]\n",
            " [1. 0.]\n",
            " [1. 0.]\n",
            " [1. 0.]]\n"
          ]
        },
        {
          "output_type": "stream",
          "name": "stderr",
          "text": [
            "/usr/local/lib/python3.7/dist-packages/ipykernel_launcher.py:3: FutureWarning: Support for multi-dimensional indexing (e.g. `obj[:, None]`) is deprecated and will be removed in a future version.  Convert to a numpy array before indexing instead.\n",
            "  This is separate from the ipykernel package so we can avoid doing imports until\n"
          ]
        }
      ]
    },
    {
      "cell_type": "code",
      "source": [
        "num_features = X.shape[1]\n",
        "num_classes = Y.shape[1]\n",
        "print('num_features = ',num_features)\n",
        "print('num_classes = ',num_classes)"
      ],
      "metadata": {
        "colab": {
          "base_uri": "https://localhost:8080/"
        },
        "id": "9Np5FClgaeWD",
        "outputId": "8bd96f1b-ef91-488b-c898-d677e4c6b434"
      },
      "execution_count": 9,
      "outputs": [
        {
          "output_type": "stream",
          "name": "stdout",
          "text": [
            "num_features =  30\n",
            "num_classes =  2\n"
          ]
        }
      ]
    },
    {
      "cell_type": "code",
      "source": [
        "from keras.models import Sequential\n",
        "from keras.layers import Dense"
      ],
      "metadata": {
        "id": "ii2o-sT4axNw"
      },
      "execution_count": 10,
      "outputs": []
    },
    {
      "cell_type": "code",
      "source": [
        "# define the model structure\n",
        "# Dense : a regular fully connected layer\n",
        "\n",
        "# The following is a simple two-hidden layer ANN; \n",
        "# 30 inputs, 10/8 hidden nodes; 2 outputs with softmax\n",
        "# Define the number of hidden nodes\n",
        "num_hidden_nodes1 = 10\n",
        "num_hidden_nodes2 = 8\n",
        "\n",
        "def model_1():\n",
        "    # create model\n",
        "    model = Sequential()\n",
        "    model.add(Dense(num_hidden_nodes1, input_dim=num_features, activation='relu'))\n",
        "    model.add(Dense(num_hidden_nodes2, activation='relu'))\n",
        "    model.add(Dense(num_classes, activation='softmax'))\n",
        "    # Compile model\n",
        "    model.compile(loss='sparse_categorical_crossentropy', optimizer='adam', metrics=['accuracy'])\n",
        "    # Choice of optimizer: adam (adaptive moment estimation), AdaGrad (adaptive learning rate), \n",
        "    # sgd (Stochastic gradient descent), RMSprop (similar to AdaGrad), Adadelta (adaptive delta) ...\n",
        "    return model\n",
        "\n",
        "# build the model\n",
        "model = model_1()\n"
      ],
      "metadata": {
        "id": "soh2I2Xca2Wb"
      },
      "execution_count": 73,
      "outputs": []
    },
    {
      "cell_type": "code",
      "source": [
        "# Training of the ANN\n",
        "history = model.fit(X_train_n, y_train, batch_size=5, epochs=60,verbose=2, validation_data=(X_test_n, y_test))\n",
        "\n",
        "# Testing of the trained ANN with X_test\n",
        "score = model.evaluate(X_test_n, y_test, verbose=0)\n",
        "print('Test loss:', score[0])\n",
        "print('Test accuracy:', score[1])"
      ],
      "metadata": {
        "colab": {
          "base_uri": "https://localhost:8080/"
        },
        "id": "KRh8l_cJbJUX",
        "outputId": "8d35a25f-17eb-4b09-96d6-3fc02759deb9"
      },
      "execution_count": 74,
      "outputs": [
        {
          "output_type": "stream",
          "name": "stdout",
          "text": [
            "Epoch 1/60\n",
            "86/86 - 1s - loss: 0.6304 - accuracy: 0.6315 - val_loss: 0.5350 - val_accuracy: 0.6783 - 513ms/epoch - 6ms/step\n",
            "Epoch 2/60\n",
            "86/86 - 0s - loss: 0.4637 - accuracy: 0.8310 - val_loss: 0.3153 - val_accuracy: 0.9441 - 115ms/epoch - 1ms/step\n",
            "Epoch 3/60\n",
            "86/86 - 0s - loss: 0.2537 - accuracy: 0.9437 - val_loss: 0.1687 - val_accuracy: 0.9371 - 159ms/epoch - 2ms/step\n",
            "Epoch 4/60\n",
            "86/86 - 0s - loss: 0.1481 - accuracy: 0.9554 - val_loss: 0.1202 - val_accuracy: 0.9441 - 121ms/epoch - 1ms/step\n",
            "Epoch 5/60\n",
            "86/86 - 0s - loss: 0.1107 - accuracy: 0.9718 - val_loss: 0.0985 - val_accuracy: 0.9510 - 153ms/epoch - 2ms/step\n",
            "Epoch 6/60\n",
            "86/86 - 0s - loss: 0.0934 - accuracy: 0.9765 - val_loss: 0.0891 - val_accuracy: 0.9510 - 110ms/epoch - 1ms/step\n",
            "Epoch 7/60\n",
            "86/86 - 0s - loss: 0.0825 - accuracy: 0.9789 - val_loss: 0.0835 - val_accuracy: 0.9510 - 147ms/epoch - 2ms/step\n",
            "Epoch 8/60\n",
            "86/86 - 0s - loss: 0.0761 - accuracy: 0.9836 - val_loss: 0.0801 - val_accuracy: 0.9510 - 112ms/epoch - 1ms/step\n",
            "Epoch 9/60\n",
            "86/86 - 0s - loss: 0.0710 - accuracy: 0.9883 - val_loss: 0.0774 - val_accuracy: 0.9580 - 117ms/epoch - 1ms/step\n",
            "Epoch 10/60\n",
            "86/86 - 0s - loss: 0.0678 - accuracy: 0.9812 - val_loss: 0.0751 - val_accuracy: 0.9650 - 111ms/epoch - 1ms/step\n",
            "Epoch 11/60\n",
            "86/86 - 0s - loss: 0.0654 - accuracy: 0.9883 - val_loss: 0.0733 - val_accuracy: 0.9580 - 125ms/epoch - 1ms/step\n",
            "Epoch 12/60\n",
            "86/86 - 0s - loss: 0.0640 - accuracy: 0.9859 - val_loss: 0.0739 - val_accuracy: 0.9650 - 116ms/epoch - 1ms/step\n",
            "Epoch 13/60\n",
            "86/86 - 0s - loss: 0.0609 - accuracy: 0.9883 - val_loss: 0.0753 - val_accuracy: 0.9580 - 119ms/epoch - 1ms/step\n",
            "Epoch 14/60\n",
            "86/86 - 0s - loss: 0.0605 - accuracy: 0.9836 - val_loss: 0.0749 - val_accuracy: 0.9580 - 148ms/epoch - 2ms/step\n",
            "Epoch 15/60\n",
            "86/86 - 0s - loss: 0.0592 - accuracy: 0.9859 - val_loss: 0.0757 - val_accuracy: 0.9580 - 153ms/epoch - 2ms/step\n",
            "Epoch 16/60\n",
            "86/86 - 0s - loss: 0.0573 - accuracy: 0.9859 - val_loss: 0.0762 - val_accuracy: 0.9650 - 156ms/epoch - 2ms/step\n",
            "Epoch 17/60\n",
            "86/86 - 0s - loss: 0.0555 - accuracy: 0.9883 - val_loss: 0.0769 - val_accuracy: 0.9650 - 164ms/epoch - 2ms/step\n",
            "Epoch 18/60\n",
            "86/86 - 0s - loss: 0.0543 - accuracy: 0.9883 - val_loss: 0.0779 - val_accuracy: 0.9650 - 154ms/epoch - 2ms/step\n",
            "Epoch 19/60\n",
            "86/86 - 0s - loss: 0.0535 - accuracy: 0.9859 - val_loss: 0.0786 - val_accuracy: 0.9580 - 112ms/epoch - 1ms/step\n",
            "Epoch 20/60\n",
            "86/86 - 0s - loss: 0.0531 - accuracy: 0.9883 - val_loss: 0.0794 - val_accuracy: 0.9580 - 112ms/epoch - 1ms/step\n",
            "Epoch 21/60\n",
            "86/86 - 0s - loss: 0.0519 - accuracy: 0.9859 - val_loss: 0.0818 - val_accuracy: 0.9580 - 108ms/epoch - 1ms/step\n",
            "Epoch 22/60\n",
            "86/86 - 0s - loss: 0.0516 - accuracy: 0.9859 - val_loss: 0.0817 - val_accuracy: 0.9510 - 156ms/epoch - 2ms/step\n",
            "Epoch 23/60\n",
            "86/86 - 0s - loss: 0.0501 - accuracy: 0.9883 - val_loss: 0.0838 - val_accuracy: 0.9580 - 103ms/epoch - 1ms/step\n",
            "Epoch 24/60\n",
            "86/86 - 0s - loss: 0.0495 - accuracy: 0.9859 - val_loss: 0.0845 - val_accuracy: 0.9580 - 111ms/epoch - 1ms/step\n",
            "Epoch 25/60\n",
            "86/86 - 0s - loss: 0.0495 - accuracy: 0.9859 - val_loss: 0.0854 - val_accuracy: 0.9580 - 115ms/epoch - 1ms/step\n",
            "Epoch 26/60\n",
            "86/86 - 0s - loss: 0.0481 - accuracy: 0.9883 - val_loss: 0.0874 - val_accuracy: 0.9580 - 119ms/epoch - 1ms/step\n",
            "Epoch 27/60\n",
            "86/86 - 0s - loss: 0.0473 - accuracy: 0.9883 - val_loss: 0.0880 - val_accuracy: 0.9580 - 112ms/epoch - 1ms/step\n",
            "Epoch 28/60\n",
            "86/86 - 0s - loss: 0.0459 - accuracy: 0.9859 - val_loss: 0.0896 - val_accuracy: 0.9580 - 115ms/epoch - 1ms/step\n",
            "Epoch 29/60\n",
            "86/86 - 0s - loss: 0.0459 - accuracy: 0.9883 - val_loss: 0.0909 - val_accuracy: 0.9580 - 112ms/epoch - 1ms/step\n",
            "Epoch 30/60\n",
            "86/86 - 0s - loss: 0.0459 - accuracy: 0.9883 - val_loss: 0.0913 - val_accuracy: 0.9580 - 128ms/epoch - 1ms/step\n",
            "Epoch 31/60\n",
            "86/86 - 0s - loss: 0.0442 - accuracy: 0.9883 - val_loss: 0.0940 - val_accuracy: 0.9580 - 116ms/epoch - 1ms/step\n",
            "Epoch 32/60\n",
            "86/86 - 0s - loss: 0.0433 - accuracy: 0.9859 - val_loss: 0.0942 - val_accuracy: 0.9580 - 110ms/epoch - 1ms/step\n",
            "Epoch 33/60\n",
            "86/86 - 0s - loss: 0.0425 - accuracy: 0.9906 - val_loss: 0.0946 - val_accuracy: 0.9510 - 112ms/epoch - 1ms/step\n",
            "Epoch 34/60\n",
            "86/86 - 0s - loss: 0.0424 - accuracy: 0.9906 - val_loss: 0.0963 - val_accuracy: 0.9510 - 156ms/epoch - 2ms/step\n",
            "Epoch 35/60\n",
            "86/86 - 0s - loss: 0.0413 - accuracy: 0.9883 - val_loss: 0.0988 - val_accuracy: 0.9510 - 152ms/epoch - 2ms/step\n",
            "Epoch 36/60\n",
            "86/86 - 0s - loss: 0.0410 - accuracy: 0.9906 - val_loss: 0.1011 - val_accuracy: 0.9510 - 164ms/epoch - 2ms/step\n",
            "Epoch 37/60\n",
            "86/86 - 0s - loss: 0.0394 - accuracy: 0.9883 - val_loss: 0.1035 - val_accuracy: 0.9510 - 112ms/epoch - 1ms/step\n",
            "Epoch 38/60\n",
            "86/86 - 0s - loss: 0.0388 - accuracy: 0.9906 - val_loss: 0.1059 - val_accuracy: 0.9441 - 151ms/epoch - 2ms/step\n",
            "Epoch 39/60\n",
            "86/86 - 0s - loss: 0.0389 - accuracy: 0.9906 - val_loss: 0.1093 - val_accuracy: 0.9441 - 109ms/epoch - 1ms/step\n",
            "Epoch 40/60\n",
            "86/86 - 0s - loss: 0.0382 - accuracy: 0.9883 - val_loss: 0.1107 - val_accuracy: 0.9441 - 117ms/epoch - 1ms/step\n",
            "Epoch 41/60\n",
            "86/86 - 0s - loss: 0.0374 - accuracy: 0.9883 - val_loss: 0.1120 - val_accuracy: 0.9441 - 110ms/epoch - 1ms/step\n",
            "Epoch 42/60\n",
            "86/86 - 0s - loss: 0.0355 - accuracy: 0.9883 - val_loss: 0.1148 - val_accuracy: 0.9441 - 158ms/epoch - 2ms/step\n",
            "Epoch 43/60\n",
            "86/86 - 0s - loss: 0.0345 - accuracy: 0.9906 - val_loss: 0.1200 - val_accuracy: 0.9441 - 116ms/epoch - 1ms/step\n",
            "Epoch 44/60\n",
            "86/86 - 0s - loss: 0.0338 - accuracy: 0.9883 - val_loss: 0.1226 - val_accuracy: 0.9441 - 125ms/epoch - 1ms/step\n",
            "Epoch 45/60\n",
            "86/86 - 0s - loss: 0.0328 - accuracy: 0.9906 - val_loss: 0.1244 - val_accuracy: 0.9510 - 148ms/epoch - 2ms/step\n",
            "Epoch 46/60\n",
            "86/86 - 0s - loss: 0.0314 - accuracy: 0.9906 - val_loss: 0.1275 - val_accuracy: 0.9441 - 151ms/epoch - 2ms/step\n",
            "Epoch 47/60\n",
            "86/86 - 0s - loss: 0.0311 - accuracy: 0.9906 - val_loss: 0.1294 - val_accuracy: 0.9441 - 117ms/epoch - 1ms/step\n",
            "Epoch 48/60\n",
            "86/86 - 0s - loss: 0.0319 - accuracy: 0.9930 - val_loss: 0.1430 - val_accuracy: 0.9371 - 116ms/epoch - 1ms/step\n",
            "Epoch 49/60\n",
            "86/86 - 0s - loss: 0.0299 - accuracy: 0.9906 - val_loss: 0.1443 - val_accuracy: 0.9371 - 155ms/epoch - 2ms/step\n",
            "Epoch 50/60\n",
            "86/86 - 0s - loss: 0.0284 - accuracy: 0.9906 - val_loss: 0.1429 - val_accuracy: 0.9441 - 149ms/epoch - 2ms/step\n",
            "Epoch 51/60\n",
            "86/86 - 0s - loss: 0.0275 - accuracy: 0.9906 - val_loss: 0.1446 - val_accuracy: 0.9441 - 108ms/epoch - 1ms/step\n",
            "Epoch 52/60\n",
            "86/86 - 0s - loss: 0.0273 - accuracy: 0.9906 - val_loss: 0.1471 - val_accuracy: 0.9441 - 112ms/epoch - 1ms/step\n",
            "Epoch 53/60\n",
            "86/86 - 0s - loss: 0.0264 - accuracy: 0.9906 - val_loss: 0.1491 - val_accuracy: 0.9441 - 110ms/epoch - 1ms/step\n",
            "Epoch 54/60\n",
            "86/86 - 0s - loss: 0.0255 - accuracy: 0.9906 - val_loss: 0.1514 - val_accuracy: 0.9441 - 117ms/epoch - 1ms/step\n",
            "Epoch 55/60\n",
            "86/86 - 0s - loss: 0.0256 - accuracy: 0.9906 - val_loss: 0.1554 - val_accuracy: 0.9441 - 108ms/epoch - 1ms/step\n",
            "Epoch 56/60\n",
            "86/86 - 0s - loss: 0.0242 - accuracy: 0.9930 - val_loss: 0.1587 - val_accuracy: 0.9441 - 116ms/epoch - 1ms/step\n",
            "Epoch 57/60\n",
            "86/86 - 0s - loss: 0.0249 - accuracy: 0.9930 - val_loss: 0.1571 - val_accuracy: 0.9441 - 156ms/epoch - 2ms/step\n",
            "Epoch 58/60\n",
            "86/86 - 0s - loss: 0.0236 - accuracy: 0.9906 - val_loss: 0.1650 - val_accuracy: 0.9441 - 115ms/epoch - 1ms/step\n",
            "Epoch 59/60\n",
            "86/86 - 0s - loss: 0.0228 - accuracy: 0.9930 - val_loss: 0.1650 - val_accuracy: 0.9441 - 162ms/epoch - 2ms/step\n",
            "Epoch 60/60\n",
            "86/86 - 0s - loss: 0.0244 - accuracy: 0.9906 - val_loss: 0.1701 - val_accuracy: 0.9441 - 154ms/epoch - 2ms/step\n",
            "Test loss: 0.1701463907957077\n",
            "Test accuracy: 0.9440559148788452\n"
          ]
        }
      ]
    },
    {
      "cell_type": "code",
      "source": [
        "# To show the performance of the ANN during training\n",
        "# The information has already been saved in \"history\"\n",
        "\n",
        "metrics = history.history\n",
        "plt.plot(history.epoch, metrics['accuracy'], metrics['val_accuracy'])\n",
        "plt.legend(['accuracy', 'val_accuracy'])\n",
        "plt.show()\n",
        "\n",
        "plt.plot(history.epoch, metrics['loss'], metrics['val_loss'])\n",
        "plt.legend(['loss', 'val_loss'])\n",
        "plt.show()"
      ],
      "metadata": {
        "colab": {
          "base_uri": "https://localhost:8080/",
          "height": 513
        },
        "id": "N8jiKcP8blNL",
        "outputId": "36afe117-947c-4b76-c686-6012c0a5b341"
      },
      "execution_count": 75,
      "outputs": [
        {
          "output_type": "display_data",
          "data": {
            "text/plain": [
              "<Figure size 432x288 with 1 Axes>"
            ],
            "image/png": "[encoded data removed]"
          },
          "metadata": {
            "needs_background": "light"
          }
        },
        {
          "output_type": "display_data",
          "data": {
            "text/plain": [
              "<Figure size 432x288 with 1 Axes>"
            ],
            "image/png": "[encoded data removed]"
          },
          "metadata": {
            "needs_background": "light"
          }
        }
      ]
    },
    {
      "cell_type": "code",
      "source": [
        "from sklearn.metrics import confusion_matrix\n",
        "from sklearn.metrics import recall_score\n",
        "from sklearn.metrics import f1_score\n",
        "from sklearn.metrics import precision_score"
      ],
      "metadata": {
        "id": "u7AiP2TtgYtx"
      },
      "execution_count": 76,
      "outputs": []
    },
    {
      "cell_type": "code",
      "source": [
        "y_prediction=model.predict(X_test_n)\n",
        "print('y_prediction.shape = ',y_prediction.shape)\n",
        "y_pred=np.argmax(y_prediction,axis=1)"
      ],
      "metadata": {
        "colab": {
          "base_uri": "https://localhost:8080/"
        },
        "id": "qXFXh8mIlWK5",
        "outputId": "3f427b96-9d22-4aeb-aa72-eda4916d3797"
      },
      "execution_count": 77,
      "outputs": [
        {
          "output_type": "stream",
          "name": "stdout",
          "text": [
            "5/5 [==============================] - 0s 2ms/step\n",
            "y_prediction.shape =  (143, 2)\n"
          ]
        }
      ]
    },
    {
      "cell_type": "code",
      "source": [
        "confusion_matrix(y_test, y_pred, labels=None, sample_weight=None)"
      ],
      "metadata": {
        "colab": {
          "base_uri": "https://localhost:8080/"
        },
        "id": "VlkYzglulkCM",
        "outputId": "98ccc58c-1211-44f1-b596-882bd924c7c2"
      },
      "execution_count": 78,
      "outputs": [
        {
          "output_type": "execute_result",
          "data": {
            "text/plain": [
              "array([[50,  3],\n",
              "       [ 5, 85]])"
            ]
          },
          "metadata": {},
          "execution_count": 78
        }
      ]
    },
    {
      "cell_type": "code",
      "source": [
        "print(precision_score(y_test, y_pred, average=None))"
      ],
      "metadata": {
        "colab": {
          "base_uri": "https://localhost:8080/"
        },
        "id": "xYuJd5zmg-x-",
        "outputId": "04b4af25-d523-4ea8-dd01-e1c7f98203c4"
      },
      "execution_count": 79,
      "outputs": [
        {
          "output_type": "stream",
          "name": "stdout",
          "text": [
            "[0.90909091 0.96590909]\n"
          ]
        }
      ]
    },
    {
      "cell_type": "code",
      "source": [
        "print(recall_score(y_test, y_pred, average=None))"
      ],
      "metadata": {
        "colab": {
          "base_uri": "https://localhost:8080/"
        },
        "id": "MHq6-4YJhHSl",
        "outputId": "148259d7-842c-4d19-cea0-f305ac8fda27"
      },
      "execution_count": 80,
      "outputs": [
        {
          "output_type": "stream",
          "name": "stdout",
          "text": [
            "[0.94339623 0.94444444]\n"
          ]
        }
      ]
    },
    {
      "cell_type": "code",
      "source": [
        "print(f1_score(y_test, y_pred, average=None))"
      ],
      "metadata": {
        "colab": {
          "base_uri": "https://localhost:8080/"
        },
        "id": "cyKlMqj-hlqU",
        "outputId": "9f058c60-2484-46e1-c88f-94c896ad03e8"
      },
      "execution_count": 81,
      "outputs": [
        {
          "output_type": "stream",
          "name": "stdout",
          "text": [
            "[0.92592593 0.95505618]\n"
          ]
        }
      ]
    }
  ]
}